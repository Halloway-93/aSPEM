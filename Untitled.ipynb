{
 "cells": [
  {
   "cell_type": "code",
   "execution_count": 1,
   "id": "7c9bb869-b881-40ab-931d-449199f2d6a4",
   "metadata": {},
   "outputs": [],
   "source": [
    "import pylink"
   ]
  },
  {
   "cell_type": "code",
   "execution_count": 2,
   "id": "5d5cfb2d-86f3-44e1-a617-c1a5a8f2f26a",
   "metadata": {},
   "outputs": [
    {
     "name": "stdout",
     "output_type": "stream",
     "text": [
      "displayAPI: Connecting\n",
      "\u0007"
     ]
    },
    {
     "name": "stderr",
     "output_type": "stream",
     "text": [
      "Connection timed out2023-07-28 12:02:26.114 Python[23610:1303868] ApplePersistenceIgnoreState: Existing state will not be touched. New state will be written to /var/folders/z1/94y2v3p14q50jpyrr54w8lrc0000gn/T/org.python.python.savedState\n"
     ]
    },
    {
     "ename": "RuntimeError",
     "evalue": "Could not connect to tracker at 100.1.1.1",
     "output_type": "error",
     "traceback": [
      "\u001b[0;31m---------------------------------------------------------------------------\u001b[0m",
      "\u001b[0;31mRuntimeError\u001b[0m                              Traceback (most recent call last)",
      "Cell \u001b[0;32mIn[2], line 2\u001b[0m\n\u001b[1;32m      1\u001b[0m \u001b[38;5;66;03m# Connect to the EyeLink eye tracker\u001b[39;00m\n\u001b[0;32m----> 2\u001b[0m eyelink_tracker \u001b[38;5;241m=\u001b[39m \u001b[43mpylink\u001b[49m\u001b[38;5;241;43m.\u001b[39;49m\u001b[43mEyeLink\u001b[49m\u001b[43m(\u001b[49m\u001b[43m)\u001b[49m\n",
      "File \u001b[0;32m~/Desktop/PhD/aSPEM/psychopy/lib/python3.8/site-packages/pylink/eyelink.py:232\u001b[0m, in \u001b[0;36mEyeLink.__init__\u001b[0;34m(self, trackeraddress)\u001b[0m\n\u001b[1;32m    230\u001b[0m \t\u001b[38;5;28mself\u001b[39m\u001b[38;5;241m.\u001b[39mtrackeraddress \u001b[38;5;241m=\u001b[39m \u001b[38;5;124m\"\u001b[39m\u001b[38;5;124mMISSING_DATA\u001b[39m\u001b[38;5;124m\"\u001b[39m\n\u001b[1;32m    231\u001b[0m \u001b[38;5;28;01melse\u001b[39;00m:\n\u001b[0;32m--> 232\u001b[0m \t\u001b[38;5;28;43mself\u001b[39;49m\u001b[38;5;241;43m.\u001b[39;49m\u001b[43mopen\u001b[49m\u001b[43m(\u001b[49m\u001b[43mtrackeraddress\u001b[49m\u001b[43m,\u001b[49m\u001b[38;5;241;43m0\u001b[39;49m\u001b[43m)\u001b[49m\n\u001b[1;32m    233\u001b[0m \t\u001b[38;5;28mself\u001b[39m\u001b[38;5;241m.\u001b[39m__dummyMode__ \u001b[38;5;241m=\u001b[39m \u001b[38;5;28;01mFalse\u001b[39;00m\n\u001b[1;32m    234\u001b[0m \t\u001b[38;5;28mself\u001b[39m\u001b[38;5;241m.\u001b[39mtrackeraddress \u001b[38;5;241m=\u001b[39m trackeraddress\n",
      "\u001b[0;31mRuntimeError\u001b[0m: Could not connect to tracker at 100.1.1.1"
     ]
    }
   ],
   "source": [
    "# Connect to the EyeLink eye tracker\n",
    "eyelink_tracker = pylink.EyeLink()\n"
   ]
  },
  {
   "cell_type": "code",
   "execution_count": null,
   "id": "da28f80a-b4a3-4d53-b077-ea71bacb1605",
   "metadata": {},
   "outputs": [],
   "source": []
  }
 ],
 "metadata": {
  "kernelspec": {
   "display_name": "Python 3 (ipykernel)",
   "language": "python",
   "name": "python3"
  },
  "language_info": {
   "codemirror_mode": {
    "name": "ipython",
    "version": 3
   },
   "file_extension": ".py",
   "mimetype": "text/x-python",
   "name": "python",
   "nbconvert_exporter": "python",
   "pygments_lexer": "ipython3",
   "version": "3.8.17"
  }
 },
 "nbformat": 4,
 "nbformat_minor": 5
}
