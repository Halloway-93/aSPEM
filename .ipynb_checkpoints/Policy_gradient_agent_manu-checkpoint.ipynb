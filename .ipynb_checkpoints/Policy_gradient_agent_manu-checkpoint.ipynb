{
 "cells": [
  {
   "cell_type": "code",
   "execution_count": 1,
   "id": "162ca60d",
   "metadata": {},
   "outputs": [],
   "source": [
    "import numpy as np \n",
    "import pandas as pd \n",
    "import matplotlib.pyplot as plt\n",
    "import scipy.stats as st\n",
    "#from frites import set_mpl_style\n",
    "#set_mpl_style()\n"
   ]
  },
  {
   "cell_type": "code",
   "execution_count": 2,
   "id": "f773e49f",
   "metadata": {},
   "outputs": [],
   "source": [
    "class Environment:\n",
    "\n",
    "    def __init__(self, p, V_abs, loss):\n",
    "        self.p = p\n",
    "        self.V_abs = V_abs\n",
    "        self.loss_func = loss\n",
    "\n",
    "    def loss(self, V_app, V_target):\n",
    "        # choose your loss here\n",
    "        if self.loss_func == 'square':\n",
    "            return 0.5 * (V_app - V_target)**2\n",
    "        elif self.loss_func == 'exp':\n",
    "            return np.exp(2*np.abs(V_app - V_target)/self.V_abs)\n",
    "        else:\n",
    "            return np.abs(V_app - V_target)\n",
    "\n",
    "    def step(self, V_app):\n",
    "        V_target = self.V_abs * 2 * (st.bernoulli.rvs(self.p)-0.5)\n",
    "        #print(V_app, V_target, -self.loss(V_app, V_target))\n",
    "        return -self.loss(V_app, V_target)"
   ]
  },
  {
   "cell_type": "code",
   "execution_count": 3,
   "id": "f54ce0d0",
   "metadata": {},
   "outputs": [],
   "source": [
    "def policyGradient(v_target,lr,n_trials):\n",
    "    V=[]\n",
    "    mu=0\n",
    "    sigma=1\n",
    "    for i in range(n_trials):\n",
    "        v_app=st.norm.rvs(loc=mu,scale=sigma)\n",
    "        dv_log=-(v_app-mu)/sigma**2\n",
    "        mu=mu + lr* np.abs(v_target-v_app)*dv_log\n",
    "\n",
    "        V.append(v_app)\n",
    "\n",
    "    return V\n",
    "    "
   ]
  },
  {
   "cell_type": "code",
   "execution_count": 4,
   "id": "a49425d9",
   "metadata": {},
   "outputs": [],
   "source": [
    "def policyGradient2(env,lr,n_trials):\n",
    "    V=[]\n",
    "    mu=0\n",
    "    sigma=1\n",
    "    mem_rew = 0\n",
    "    for i in range(n_trials):\n",
    "        v_app=st.norm.rvs(loc=mu,scale=sigma)\n",
    "        dv_log=(v_app-mu)/sigma**2\n",
    "        rew = env.step(v_app)\n",
    "        mem_rew = .9 * mem_rew + .1 * rew \n",
    "        r = rew - mem_rew\n",
    "        mu=mu + lr* r * dv_log\n",
    "        #print(rew-mem_rew)\n",
    "        V.append(v_app)\n",
    "\n",
    "    return V\n"
   ]
  },
  {
   "cell_type": "code",
   "execution_count": null,
   "id": "8e8a3b34",
   "metadata": {},
   "outputs": [],
   "source": [
    "V_abs = 15\n",
    "lr = 0.03\n",
    "n_trials = 5000\n",
    "loss = 'linear'\n",
    "\n",
    "for p in (0, 0.1, 0.3, 0.5, 0.7, 0.9, 1):\n",
    "    for i in range(10):\n",
    "        env = Environment(p, V_abs, loss=loss)\n",
    "        V_app_list = policyGradient2(env, lr, n_trials)\n",
    "        if i ==0:\n",
    "            V_mean = np.array(V_app_list)/10\n",
    "        else:\n",
    "            V_mean += np.array(V_app_list)/10\n",
    "        #plt.plot(V_app_list, alpha=.5, c='gray')\n",
    "    plt.plot(V_mean,label=f'p={p}')\n",
    "plt.plot([0,5000], [V_abs, V_abs],':r')\n",
    "plt.plot([0,5000], [-V_abs, -V_abs],':r')\n",
    "plt.title(f'loss={loss}, lr={lr}')\n",
    "plt.legend()"
   ]
  },
  {
   "cell_type": "code",
   "execution_count": null,
   "id": "a5e30209",
   "metadata": {},
   "outputs": [],
   "source": [
    "V_abs = 15\n",
    "lr = 0.003\n",
    "n_trials = 5000\n",
    "loss = 'square'\n",
    "\n",
    "for p in (0, 0.1, 0.3, 0.5, 0.7, 0.9, 1):\n",
    "    for i in range(10):\n",
    "        env = Environment(p, V_abs, loss=loss)\n",
    "        V_app_list = policyGradient2(env, lr, n_trials)\n",
    "        if i ==0:\n",
    "            V_mean = np.array(V_app_list)/10\n",
    "        else:\n",
    "            V_mean += np.array(V_app_list)/10\n",
    "        #plt.plot(V_app_list, alpha=.5, c='gray')\n",
    "    plt.plot(V_mean,label=f'p={p}')\n",
    "plt.plot([0,5000], [V_abs, V_abs],':r')\n",
    "plt.plot([0,5000], [-V_abs, -V_abs],':r')\n",
    "plt.title(f'loss={loss}, lr={lr}')\n",
    "plt.legend()"
   ]
  },
  {
   "cell_type": "code",
   "execution_count": null,
   "id": "12db9a67",
   "metadata": {},
   "outputs": [],
   "source": [
    "V_abs = 15\n",
    "lr = 0.03\n",
    "n_trials = 5000\n",
    "loss = 'exp'\n",
    "\n",
    "for p in (0, 0.1, 0.3, 0.5, 0.7, 0.9, 1):\n",
    "    for i in range(10):\n",
    "        env = Environment(p, V_abs, loss=loss)\n",
    "        V_app_list = policyGradient2(env, lr, n_trials)\n",
    "        if i ==0:\n",
    "            V_mean = np.array(V_app_list)/10\n",
    "        else:\n",
    "            V_mean += np.array(V_app_list)/10\n",
    "        #plt.plot(V_app_list, alpha=.5, c='gray')\n",
    "    plt.plot(V_mean,label=f'p={p}')\n",
    "plt.plot([0,5000], [V_abs, V_abs],':r')\n",
    "plt.plot([0,5000], [-V_abs, -V_abs],':r')\n",
    "plt.title(f'loss={loss}, lr={lr}')\n",
    "plt.legend()\n",
    "plt.ylim(-20,20)"
   ]
  },
  {
   "cell_type": "code",
   "execution_count": null,
   "id": "ded8eaa9",
   "metadata": {},
   "outputs": [],
   "source": [
    "np.exp(30)"
   ]
  },
  {
   "cell_type": "code",
   "execution_count": null,
   "id": "9834d554",
   "metadata": {},
   "outputs": [],
   "source": []
  }
 ],
 "metadata": {
  "kernelspec": {
   "display_name": "Python 3 (ipykernel)",
   "language": "python",
   "name": "python3"
  },
  "language_info": {
   "codemirror_mode": {
    "name": "ipython",
    "version": 3
   },
   "file_extension": ".py",
   "mimetype": "text/x-python",
   "name": "python",
   "nbconvert_exporter": "python",
   "pygments_lexer": "ipython3",
   "version": "3.9.13"
  }
 },
 "nbformat": 4,
 "nbformat_minor": 5
}
