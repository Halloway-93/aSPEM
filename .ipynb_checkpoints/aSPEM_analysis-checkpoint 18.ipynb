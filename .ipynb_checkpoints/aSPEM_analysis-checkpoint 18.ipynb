{
 "cells": [
  {
   "cell_type": "code",
   "execution_count": 145,
   "id": "4b4c2b77",
   "metadata": {},
   "outputs": [],
   "source": [
    "import pickle\n",
    "import pandas as pd\n",
    "import numpy as np \n",
    "import matplotlib.pyplot as plt \n",
    "from frites import set_mpl_style\n",
    "import seaborn as sns\n",
    "import statsmodels.api as sm\n",
    "import statsmodels.formula.api as smf\n",
    "set_mpl_style()\n",
    "import scipy.optimize\n",
    "from scipy import stats\n",
    "import math"
   ]
  },
  {
   "cell_type": "code",
   "execution_count": 146,
   "id": "ec51923f",
   "metadata": {},
   "outputs": [],
   "source": [
    "path='/Users/hamzahalloway/Nextcloud/Shared/HAMZA_PhD/Data/Probant_DevAsd/RESULT_sigmo/Controles/'\n",
    "from os import listdir\n",
    "categories = np.sort([f for f in listdir(path)])\n",
    "namesCat=[]\n",
    "for cat in categories:\n",
    "    namesCat.append(np.sort([f for f in listdir(path+cat)]))\n"
   ]
  },
  {
   "cell_type": "code",
   "execution_count": 147,
   "id": "157f2c53",
   "metadata": {},
   "outputs": [
    {
     "data": {
      "text/plain": [
       "array(['ADGO', 'ANAM', 'AUPE', 'BOBO', 'CABE', 'CEPO', 'CHRO', 'EUAU',\n",
       "       'FATH', 'FEGA', 'FLBO', 'FRCO', 'HULA', 'IRBA', 'IVBA', 'JEMO',\n",
       "       'LOBO', 'LOEP', 'MAGE', 'MAGO', 'MALA', 'MALE', 'MASO', 'MERO',\n",
       "       'MIAZ', 'MOSE', 'MYDU', 'NIVA', 'PIAL', 'PICI', 'THLA'],\n",
       "      dtype='<U4')"
      ]
     },
     "execution_count": 147,
     "metadata": {},
     "output_type": "execute_result"
    }
   ],
   "source": [
    "namesCat[1]"
   ]
  },
  {
   "cell_type": "code",
   "execution_count": 148,
   "id": "eef1379e",
   "metadata": {},
   "outputs": [
    {
     "data": {
      "text/plain": [
       "array(['Ados', 'Adultes', 'Enfants'], dtype='<U7')"
      ]
     },
     "execution_count": 148,
     "metadata": {},
     "output_type": "execute_result"
    }
   ],
   "source": [
    "categories"
   ]
  },
  {
   "cell_type": "code",
   "execution_count": 149,
   "id": "dd08e73a",
   "metadata": {},
   "outputs": [],
   "source": [
    "allFiles=[]\n",
    "\n",
    "for nameCat,cat in zip(namesCat,categories):\n",
    "    filesCat=[]\n",
    "    for name in nameCat:\n",
    "        files=np.sort([f for f in listdir(path+cat+'/'+name)])\n",
    "        filesCat.append(files)\n",
    "    allFiles.append(filesCat)\n",
    "\n"
   ]
  },
  {
   "cell_type": "code",
   "execution_count": 150,
   "id": "3d72a09e",
   "metadata": {},
   "outputs": [
    {
     "data": {
      "text/plain": [
       "'FEGAb100.pkl'"
      ]
     },
     "execution_count": 150,
     "metadata": {},
     "output_type": "execute_result"
    }
   ],
   "source": [
    "allFiles[1][9][0]#[Category:Ados,enfants, adultes ][participant's name][condition, proba]"
   ]
  },
  {
   "cell_type": "code",
   "execution_count": 151,
   "id": "8271bb61",
   "metadata": {},
   "outputs": [
    {
     "name": "stdout",
     "output_type": "stream",
     "text": [
      "Ados : 45\n",
      "Adultes : 31\n",
      "Enfants : 29\n"
     ]
    }
   ],
   "source": [
    "for cat,names in zip(categories,allFiles):\n",
    "    print(cat,\":\",len(names))"
   ]
  },
  {
   "cell_type": "code",
   "execution_count": 152,
   "id": "edfd9a61",
   "metadata": {},
   "outputs": [],
   "source": [
    "allPaths=[]\n",
    "for cat,names,conditions in zip(categories,namesCat,allFiles):\n",
    "    catPaths=[]\n",
    "    for name,namecond in zip(names,conditions):\n",
    "        for condition in namecond:\n",
    "            catPaths.append(path+cat+'/'+name+'/'+condition)\n",
    "    allPaths.append(catPaths)\n",
    "    "
   ]
  },
  {
   "cell_type": "code",
   "execution_count": 153,
   "id": "7f844dcd",
   "metadata": {},
   "outputs": [],
   "source": [
    "allData=[]\n",
    "for cat,catPaths in zip(categories,allPaths):\n",
    "    for file in catPaths:\n",
    "        with open(file, 'rb') as f:\n",
    "            dic = pickle.load(f)\n",
    "        cols=[k for k in dic.keys()]\n",
    "        vals=[v for v in dic.values()]\n",
    "        vv=vals.copy()\n",
    "        for i,v in enumerate(vals):\n",
    "            if type(v)==list:\n",
    "                if len(v)==1:\n",
    "                    vv[i]=v[0]\n",
    "        vals=vv\n",
    "        new_dic={}\n",
    "        for k,v in zip(cols,vals):\n",
    "            if type(v)!=dict:\n",
    "                new_dic[k]=v\n",
    "        data=pd.DataFrame(dict([ (k,pd.Series(v,dtype=object)) for k,v in new_dic.items()]))\n",
    "        data.drop([\"old_steady_state\",'old_steady_state','stop_search_misac','old_latency',\"step_fit\",\"filt\"],axis=1,inplace=True)\n",
    "        for col in data.columns:\n",
    "            data[col].fillna(data[col].iloc[0],inplace=True)\n",
    "        #Getting the probability from the name of the file\n",
    "        proba=int(file[-6:-4])/100#probability\n",
    "        if proba==0:\n",
    "            proba=1\n",
    "\n",
    "        data[\"Proba\"]=[proba]*len(data)\n",
    "        data[\"Category\"]=[cat]*len(data)\n",
    "\n",
    "        data.loc[data[\"bias\"]==0,\"Proba\"]=0.5\n",
    "        allData.append(data)\n",
    "                "
   ]
  },
  {
   "cell_type": "code",
   "execution_count": 154,
   "id": "65d5d484",
   "metadata": {},
   "outputs": [
    {
     "data": {
      "text/plain": [
       "Index(['time_sup', 'start_anti', 'N_trials', 'cutoff', 'N_blocks',\n",
       "       'ramp_pursuit', 'bias', 'nb_sacc', 'observer', 'latency', 'dir_target',\n",
       "       'a_anti', 'sample_rate', 'steady_state', 'old_anti', 'after_sacc',\n",
       "       'do_whitening', 'before_sacc', 'near_sacc', 'Proba', 'Category'],\n",
       "      dtype='object')"
      ]
     },
     "execution_count": 154,
     "metadata": {},
     "output_type": "execute_result"
    }
   ],
   "source": [
    "allData[0].columns"
   ]
  },
  {
   "cell_type": "code",
   "execution_count": 155,
   "id": "f463f79f",
   "metadata": {},
   "outputs": [],
   "source": [
    "Data=pd.concat(allData)"
   ]
  },
  {
   "cell_type": "code",
   "execution_count": 156,
   "id": "aefa2b27",
   "metadata": {},
   "outputs": [
    {
     "data": {
      "text/html": [
       "<div>\n",
       "<style scoped>\n",
       "    .dataframe tbody tr th:only-of-type {\n",
       "        vertical-align: middle;\n",
       "    }\n",
       "\n",
       "    .dataframe tbody tr th {\n",
       "        vertical-align: top;\n",
       "    }\n",
       "\n",
       "    .dataframe thead th {\n",
       "        text-align: right;\n",
       "    }\n",
       "</style>\n",
       "<table border=\"1\" class=\"dataframe\">\n",
       "  <thead>\n",
       "    <tr style=\"text-align: right;\">\n",
       "      <th></th>\n",
       "      <th>time_sup</th>\n",
       "      <th>start_anti</th>\n",
       "      <th>N_trials</th>\n",
       "      <th>cutoff</th>\n",
       "      <th>N_blocks</th>\n",
       "      <th>ramp_pursuit</th>\n",
       "      <th>bias</th>\n",
       "      <th>nb_sacc</th>\n",
       "      <th>observer</th>\n",
       "      <th>latency</th>\n",
       "      <th>...</th>\n",
       "      <th>a_anti</th>\n",
       "      <th>sample_rate</th>\n",
       "      <th>steady_state</th>\n",
       "      <th>old_anti</th>\n",
       "      <th>after_sacc</th>\n",
       "      <th>do_whitening</th>\n",
       "      <th>before_sacc</th>\n",
       "      <th>near_sacc</th>\n",
       "      <th>Proba</th>\n",
       "      <th>Category</th>\n",
       "    </tr>\n",
       "  </thead>\n",
       "  <tbody>\n",
       "    <tr>\n",
       "      <th>20</th>\n",
       "      <td>280</td>\n",
       "      <td>17.991851</td>\n",
       "      <td>150</td>\n",
       "      <td>30</td>\n",
       "      <td>1</td>\n",
       "      <td>51.597271</td>\n",
       "      <td>0</td>\n",
       "      <td>2.0</td>\n",
       "      <td>ABBO</td>\n",
       "      <td>141.000030</td>\n",
       "      <td>...</td>\n",
       "      <td>-0.942413</td>\n",
       "      <td>1000</td>\n",
       "      <td>7.408425</td>\n",
       "      <td>3.568286</td>\n",
       "      <td>15</td>\n",
       "      <td>False</td>\n",
       "      <td>5</td>\n",
       "      <td>False</td>\n",
       "      <td>0.5</td>\n",
       "      <td>Ados</td>\n",
       "    </tr>\n",
       "    <tr>\n",
       "      <th>20</th>\n",
       "      <td>280</td>\n",
       "      <td>-247.997473</td>\n",
       "      <td>150</td>\n",
       "      <td>30</td>\n",
       "      <td>1</td>\n",
       "      <td>40.000037</td>\n",
       "      <td>0</td>\n",
       "      <td>2.0</td>\n",
       "      <td>ABBO</td>\n",
       "      <td>134.000032</td>\n",
       "      <td>...</td>\n",
       "      <td>2.850175</td>\n",
       "      <td>1000</td>\n",
       "      <td>9.232768</td>\n",
       "      <td>3.033586</td>\n",
       "      <td>15</td>\n",
       "      <td>False</td>\n",
       "      <td>5</td>\n",
       "      <td>False</td>\n",
       "      <td>0.5</td>\n",
       "      <td>Ados</td>\n",
       "    </tr>\n",
       "    <tr>\n",
       "      <th>20</th>\n",
       "      <td>280</td>\n",
       "      <td>4.361985</td>\n",
       "      <td>150</td>\n",
       "      <td>30</td>\n",
       "      <td>1</td>\n",
       "      <td>75.457750</td>\n",
       "      <td>0</td>\n",
       "      <td>2.0</td>\n",
       "      <td>ABBO</td>\n",
       "      <td>182.000007</td>\n",
       "      <td>...</td>\n",
       "      <td>-7.424488</td>\n",
       "      <td>1000</td>\n",
       "      <td>7.237636</td>\n",
       "      <td>0.916174</td>\n",
       "      <td>15</td>\n",
       "      <td>False</td>\n",
       "      <td>5</td>\n",
       "      <td>False</td>\n",
       "      <td>0.5</td>\n",
       "      <td>Ados</td>\n",
       "    </tr>\n",
       "    <tr>\n",
       "      <th>20</th>\n",
       "      <td>280</td>\n",
       "      <td>-144.000274</td>\n",
       "      <td>150</td>\n",
       "      <td>30</td>\n",
       "      <td>1</td>\n",
       "      <td>799.389620</td>\n",
       "      <td>0</td>\n",
       "      <td>4.0</td>\n",
       "      <td>ALCO</td>\n",
       "      <td>199.000000</td>\n",
       "      <td>...</td>\n",
       "      <td>-6.298838</td>\n",
       "      <td>1000</td>\n",
       "      <td>10.025556</td>\n",
       "      <td>-6.252236</td>\n",
       "      <td>15</td>\n",
       "      <td>False</td>\n",
       "      <td>5</td>\n",
       "      <td>True</td>\n",
       "      <td>0.5</td>\n",
       "      <td>Ados</td>\n",
       "    </tr>\n",
       "    <tr>\n",
       "      <th>20</th>\n",
       "      <td>280</td>\n",
       "      <td>-103.007882</td>\n",
       "      <td>150</td>\n",
       "      <td>30</td>\n",
       "      <td>1</td>\n",
       "      <td>40.000001</td>\n",
       "      <td>0</td>\n",
       "      <td>2.0</td>\n",
       "      <td>ALCO</td>\n",
       "      <td>226.988854</td>\n",
       "      <td>...</td>\n",
       "      <td>-10.587285</td>\n",
       "      <td>1000</td>\n",
       "      <td>9.478057</td>\n",
       "      <td>-9.108531</td>\n",
       "      <td>15</td>\n",
       "      <td>False</td>\n",
       "      <td>5</td>\n",
       "      <td>True</td>\n",
       "      <td>0.5</td>\n",
       "      <td>Ados</td>\n",
       "    </tr>\n",
       "    <tr>\n",
       "      <th>...</th>\n",
       "      <td>...</td>\n",
       "      <td>...</td>\n",
       "      <td>...</td>\n",
       "      <td>...</td>\n",
       "      <td>...</td>\n",
       "      <td>...</td>\n",
       "      <td>...</td>\n",
       "      <td>...</td>\n",
       "      <td>...</td>\n",
       "      <td>...</td>\n",
       "      <td>...</td>\n",
       "      <td>...</td>\n",
       "      <td>...</td>\n",
       "      <td>...</td>\n",
       "      <td>...</td>\n",
       "      <td>...</td>\n",
       "      <td>...</td>\n",
       "      <td>...</td>\n",
       "      <td>...</td>\n",
       "      <td>...</td>\n",
       "      <td>...</td>\n",
       "    </tr>\n",
       "    <tr>\n",
       "      <th>20</th>\n",
       "      <td>280</td>\n",
       "      <td>-173.856442</td>\n",
       "      <td>150</td>\n",
       "      <td>30</td>\n",
       "      <td>1</td>\n",
       "      <td>41.559916</td>\n",
       "      <td>0</td>\n",
       "      <td>4.0</td>\n",
       "      <td>VIIB</td>\n",
       "      <td>205.999987</td>\n",
       "      <td>...</td>\n",
       "      <td>-2.627556</td>\n",
       "      <td>1000</td>\n",
       "      <td>9.622191</td>\n",
       "      <td>-2.578689</td>\n",
       "      <td>15</td>\n",
       "      <td>False</td>\n",
       "      <td>5</td>\n",
       "      <td>True</td>\n",
       "      <td>0.5</td>\n",
       "      <td>Enfants</td>\n",
       "    </tr>\n",
       "    <tr>\n",
       "      <th>20</th>\n",
       "      <td>280</td>\n",
       "      <td>-114.008732</td>\n",
       "      <td>150</td>\n",
       "      <td>30</td>\n",
       "      <td>1</td>\n",
       "      <td>51.777934</td>\n",
       "      <td>0</td>\n",
       "      <td>4.0</td>\n",
       "      <td>VIIB</td>\n",
       "      <td>92.430800</td>\n",
       "      <td>...</td>\n",
       "      <td>2.264724</td>\n",
       "      <td>1000</td>\n",
       "      <td>8.761652</td>\n",
       "      <td>6.437846</td>\n",
       "      <td>15</td>\n",
       "      <td>False</td>\n",
       "      <td>5</td>\n",
       "      <td>False</td>\n",
       "      <td>0.5</td>\n",
       "      <td>Enfants</td>\n",
       "    </tr>\n",
       "    <tr>\n",
       "      <th>20</th>\n",
       "      <td>280</td>\n",
       "      <td>47.995403</td>\n",
       "      <td>150</td>\n",
       "      <td>30</td>\n",
       "      <td>1</td>\n",
       "      <td>65.583137</td>\n",
       "      <td>0</td>\n",
       "      <td>2.0</td>\n",
       "      <td>VIIB</td>\n",
       "      <td>75.082335</td>\n",
       "      <td>...</td>\n",
       "      <td>-0.296949</td>\n",
       "      <td>1000</td>\n",
       "      <td>8.487598</td>\n",
       "      <td>7.890834</td>\n",
       "      <td>15</td>\n",
       "      <td>False</td>\n",
       "      <td>5</td>\n",
       "      <td>False</td>\n",
       "      <td>0.5</td>\n",
       "      <td>Enfants</td>\n",
       "    </tr>\n",
       "    <tr>\n",
       "      <th>20</th>\n",
       "      <td>280</td>\n",
       "      <td>52.932155</td>\n",
       "      <td>150</td>\n",
       "      <td>30</td>\n",
       "      <td>1</td>\n",
       "      <td>55.292680</td>\n",
       "      <td>0</td>\n",
       "      <td>1.0</td>\n",
       "      <td>VIIO</td>\n",
       "      <td>192.000072</td>\n",
       "      <td>...</td>\n",
       "      <td>2.638887</td>\n",
       "      <td>1000</td>\n",
       "      <td>10.000129</td>\n",
       "      <td>-17.577609</td>\n",
       "      <td>15</td>\n",
       "      <td>False</td>\n",
       "      <td>5</td>\n",
       "      <td>False</td>\n",
       "      <td>0.5</td>\n",
       "      <td>Enfants</td>\n",
       "    </tr>\n",
       "    <tr>\n",
       "      <th>20</th>\n",
       "      <td>280</td>\n",
       "      <td>-45.411560</td>\n",
       "      <td>150</td>\n",
       "      <td>30</td>\n",
       "      <td>1</td>\n",
       "      <td>40.017068</td>\n",
       "      <td>0</td>\n",
       "      <td>2.0</td>\n",
       "      <td>VIIO</td>\n",
       "      <td>124.000000</td>\n",
       "      <td>...</td>\n",
       "      <td>1.292081</td>\n",
       "      <td>1000</td>\n",
       "      <td>10.244890</td>\n",
       "      <td>-1.224578</td>\n",
       "      <td>15</td>\n",
       "      <td>False</td>\n",
       "      <td>5</td>\n",
       "      <td>False</td>\n",
       "      <td>0.5</td>\n",
       "      <td>Enfants</td>\n",
       "    </tr>\n",
       "  </tbody>\n",
       "</table>\n",
       "<p>310 rows × 21 columns</p>\n",
       "</div>"
      ],
      "text/plain": [
       "    time_sup  start_anti  N_trials  cutoff  N_blocks  ramp_pursuit  bias  \\\n",
       "20       280   17.991851       150      30         1     51.597271     0   \n",
       "20       280 -247.997473       150      30         1     40.000037     0   \n",
       "20       280    4.361985       150      30         1     75.457750     0   \n",
       "20       280 -144.000274       150      30         1    799.389620     0   \n",
       "20       280 -103.007882       150      30         1     40.000001     0   \n",
       "..       ...         ...       ...     ...       ...           ...   ...   \n",
       "20       280 -173.856442       150      30         1     41.559916     0   \n",
       "20       280 -114.008732       150      30         1     51.777934     0   \n",
       "20       280   47.995403       150      30         1     65.583137     0   \n",
       "20       280   52.932155       150      30         1     55.292680     0   \n",
       "20       280  -45.411560       150      30         1     40.017068     0   \n",
       "\n",
       "    nb_sacc observer     latency  ...     a_anti  sample_rate  steady_state  \\\n",
       "20      2.0     ABBO  141.000030  ...  -0.942413         1000      7.408425   \n",
       "20      2.0     ABBO  134.000032  ...   2.850175         1000      9.232768   \n",
       "20      2.0     ABBO  182.000007  ...  -7.424488         1000      7.237636   \n",
       "20      4.0     ALCO  199.000000  ...  -6.298838         1000     10.025556   \n",
       "20      2.0     ALCO  226.988854  ... -10.587285         1000      9.478057   \n",
       "..      ...      ...         ...  ...        ...          ...           ...   \n",
       "20      4.0     VIIB  205.999987  ...  -2.627556         1000      9.622191   \n",
       "20      4.0     VIIB   92.430800  ...   2.264724         1000      8.761652   \n",
       "20      2.0     VIIB   75.082335  ...  -0.296949         1000      8.487598   \n",
       "20      1.0     VIIO  192.000072  ...   2.638887         1000     10.000129   \n",
       "20      2.0     VIIO  124.000000  ...   1.292081         1000     10.244890   \n",
       "\n",
       "     old_anti  after_sacc  do_whitening  before_sacc  near_sacc Proba  \\\n",
       "20   3.568286          15         False            5      False   0.5   \n",
       "20   3.033586          15         False            5      False   0.5   \n",
       "20   0.916174          15         False            5      False   0.5   \n",
       "20  -6.252236          15         False            5       True   0.5   \n",
       "20  -9.108531          15         False            5       True   0.5   \n",
       "..        ...         ...           ...          ...        ...   ...   \n",
       "20  -2.578689          15         False            5       True   0.5   \n",
       "20   6.437846          15         False            5      False   0.5   \n",
       "20   7.890834          15         False            5      False   0.5   \n",
       "20 -17.577609          15         False            5      False   0.5   \n",
       "20  -1.224578          15         False            5      False   0.5   \n",
       "\n",
       "    Category  \n",
       "20      Ados  \n",
       "20      Ados  \n",
       "20      Ados  \n",
       "20      Ados  \n",
       "20      Ados  \n",
       "..       ...  \n",
       "20   Enfants  \n",
       "20   Enfants  \n",
       "20   Enfants  \n",
       "20   Enfants  \n",
       "20   Enfants  \n",
       "\n",
       "[310 rows x 21 columns]"
      ]
     },
     "execution_count": 156,
     "metadata": {},
     "output_type": "execute_result"
    }
   ],
   "source": [
    "Data.loc[20]"
   ]
  },
  {
   "cell_type": "code",
   "execution_count": null,
   "id": "00dd54af",
   "metadata": {},
   "outputs": [],
   "source": []
  },
  {
   "cell_type": "code",
   "execution_count": 157,
   "id": "b25e1eb1",
   "metadata": {},
   "outputs": [],
   "source": [
    "Data.dropna(axis=0,inplace=True)"
   ]
  },
  {
   "cell_type": "code",
   "execution_count": 158,
   "id": "4de18b34",
   "metadata": {},
   "outputs": [
    {
     "data": {
      "text/plain": [
       "Index(['time_sup', 'start_anti', 'N_trials', 'cutoff', 'N_blocks',\n",
       "       'ramp_pursuit', 'bias', 'nb_sacc', 'observer', 'latency', 'dir_target',\n",
       "       'a_anti', 'sample_rate', 'steady_state', 'old_anti', 'after_sacc',\n",
       "       'do_whitening', 'before_sacc', 'near_sacc', 'Proba', 'Category'],\n",
       "      dtype='object')"
      ]
     },
     "execution_count": 158,
     "metadata": {},
     "output_type": "execute_result"
    }
   ],
   "source": [
    "Data.columns"
   ]
  },
  {
   "cell_type": "code",
   "execution_count": 159,
   "id": "86758a06",
   "metadata": {},
   "outputs": [
    {
     "data": {
      "image/png": "[encoded data removed]",
      "text/plain": [
       "<Figure size 1008x720 with 1 Axes>"
      ]
     },
     "metadata": {},
     "output_type": "display_data"
    }
   ],
   "source": [
    "plt.hist(Data[Data.bias==1].a_anti,alpha=.5,label=\"Biased\")\n",
    "plt.hist(Data[Data.bias==0].a_anti,alpha=.5,label=\"No bias\")\n",
    "\n",
    "plt.legend()\n",
    "plt.show()"
   ]
  },
  {
   "cell_type": "code",
   "execution_count": 160,
   "id": "ec1fc92a",
   "metadata": {},
   "outputs": [],
   "source": [
    "#for o in Data.observer:\n",
    "#    plt.hist(Data[Data.bias==1 &( Data.observer==o)].a_anti,alpha=.5,label=\"Biased\")\n",
    "#    plt.hist(Data[Data.bias==0 &( Data.observer==o)].a_anti,alpha=.5,label=\"No bias\")\n",
    "\n",
    "#    plt.legend()\n",
    "#    plt.show()"
   ]
  },
  {
   "cell_type": "code",
   "execution_count": 161,
   "id": "6a42fc38",
   "metadata": {},
   "outputs": [
    {
     "data": {
      "text/plain": [
       "<matplotlib.legend.Legend at 0x1697dc7f0>"
      ]
     },
     "execution_count": 161,
     "metadata": {},
     "output_type": "execute_result"
    },
    {
     "data": {
      "image/png": "[encoded data removed]",
      "text/plain": [
       "<Figure size 1008x720 with 1 Axes>"
      ]
     },
     "metadata": {},
     "output_type": "display_data"
    }
   ],
   "source": [
    "plt.hist(Data[Data.bias==1 ].start_anti,alpha=.5,label=\"Biased\")\n",
    "plt.hist(Data[Data.bias==0].start_anti,alpha=.5,label=\"No bias\")\n",
    "\n",
    "plt.legend()"
   ]
  },
  {
   "cell_type": "code",
   "execution_count": 162,
   "id": "a02520fb",
   "metadata": {},
   "outputs": [],
   "source": [
    "#for o in Data.observer:\n",
    "#    plt.hist(Data[Data.bias==1 &( Data.observer==o)].start_anti,alpha=.5,label=\"Biased\")\n",
    "#    plt.hist(Data[Data.bias==0 &( Data.observer==o)].start_anti,alpha=.5,label=\"No bias\")\n",
    "#\n",
    "#    plt.legend()"
   ]
  },
  {
   "cell_type": "code",
   "execution_count": 163,
   "id": "44b13e04",
   "metadata": {},
   "outputs": [],
   "source": [
    "Data[\"V_app\"]=Data.a_anti*(Data.latency-Data.start_anti)/1000"
   ]
  },
  {
   "cell_type": "code",
   "execution_count": 164,
   "id": "73cf0073",
   "metadata": {},
   "outputs": [],
   "source": [
    "def moving_avg(x, n):\n",
    "    cumsum = np.cumsum(np.insert(x, 0, 0)) \n",
    "    return (cumsum[n:] - cumsum[:-n]) / float(n)\n"
   ]
  },
  {
   "cell_type": "code",
   "execution_count": 165,
   "id": "dc1dfa7a",
   "metadata": {},
   "outputs": [
    {
     "data": {
      "text/plain": [
       "146"
      ]
     },
     "execution_count": 165,
     "metadata": {},
     "output_type": "execute_result"
    }
   ],
   "source": [
    "len(Data.iloc[0:150].V_app.rolling(window=5).mean().iloc[4:].values)"
   ]
  },
  {
   "cell_type": "code",
   "execution_count": 166,
   "id": "7709ab33",
   "metadata": {},
   "outputs": [
    {
     "data": {
      "text/plain": [
       "[<matplotlib.lines.Line2D at 0x16a42fac0>]"
      ]
     },
     "execution_count": 166,
     "metadata": {},
     "output_type": "execute_result"
    },
    {
     "data": {
      "image/png": "[encoded data removed]",
      "text/plain": [
       "<Figure size 1008x720 with 1 Axes>"
      ]
     },
     "metadata": {},
     "output_type": "display_data"
    }
   ],
   "source": [
    "plt.plot(Data.iloc[0:150].V_app)\n",
    "plt.plot(Data.iloc[0:150].Proba*10)\n",
    "plt.plot(Data.iloc[0:150].V_app.rolling(window=10).mean().iloc[9:],lw=2)"
   ]
  },
  {
   "cell_type": "code",
   "execution_count": 167,
   "id": "8ad3dbe4",
   "metadata": {},
   "outputs": [
    {
     "data": {
      "text/html": [
       "<div>\n",
       "<style scoped>\n",
       "    .dataframe tbody tr th:only-of-type {\n",
       "        vertical-align: middle;\n",
       "    }\n",
       "\n",
       "    .dataframe tbody tr th {\n",
       "        vertical-align: top;\n",
       "    }\n",
       "\n",
       "    .dataframe thead th {\n",
       "        text-align: right;\n",
       "    }\n",
       "</style>\n",
       "<table border=\"1\" class=\"dataframe\">\n",
       "  <thead>\n",
       "    <tr style=\"text-align: right;\">\n",
       "      <th></th>\n",
       "      <th>time_sup</th>\n",
       "      <th>start_anti</th>\n",
       "      <th>N_trials</th>\n",
       "      <th>cutoff</th>\n",
       "      <th>N_blocks</th>\n",
       "      <th>ramp_pursuit</th>\n",
       "      <th>bias</th>\n",
       "      <th>nb_sacc</th>\n",
       "      <th>observer</th>\n",
       "      <th>latency</th>\n",
       "      <th>...</th>\n",
       "      <th>sample_rate</th>\n",
       "      <th>steady_state</th>\n",
       "      <th>old_anti</th>\n",
       "      <th>after_sacc</th>\n",
       "      <th>do_whitening</th>\n",
       "      <th>before_sacc</th>\n",
       "      <th>near_sacc</th>\n",
       "      <th>Proba</th>\n",
       "      <th>Category</th>\n",
       "      <th>V_app</th>\n",
       "    </tr>\n",
       "  </thead>\n",
       "  <tbody>\n",
       "    <tr>\n",
       "      <th>0</th>\n",
       "      <td>280</td>\n",
       "      <td>66.717233</td>\n",
       "      <td>150</td>\n",
       "      <td>30</td>\n",
       "      <td>1</td>\n",
       "      <td>41.206341</td>\n",
       "      <td>0</td>\n",
       "      <td>4.0</td>\n",
       "      <td>ABBO</td>\n",
       "      <td>306.019016</td>\n",
       "      <td>...</td>\n",
       "      <td>1000</td>\n",
       "      <td>10.782475</td>\n",
       "      <td>7.200720</td>\n",
       "      <td>15</td>\n",
       "      <td>False</td>\n",
       "      <td>5</td>\n",
       "      <td>True</td>\n",
       "      <td>0.5</td>\n",
       "      <td>Ados</td>\n",
       "      <td>3.117536</td>\n",
       "    </tr>\n",
       "    <tr>\n",
       "      <th>1</th>\n",
       "      <td>280</td>\n",
       "      <td>74.818036</td>\n",
       "      <td>150</td>\n",
       "      <td>30</td>\n",
       "      <td>1</td>\n",
       "      <td>526.141661</td>\n",
       "      <td>0</td>\n",
       "      <td>2.0</td>\n",
       "      <td>ABBO</td>\n",
       "      <td>258.000001</td>\n",
       "      <td>...</td>\n",
       "      <td>1000</td>\n",
       "      <td>7.171238</td>\n",
       "      <td>6.051199</td>\n",
       "      <td>15</td>\n",
       "      <td>False</td>\n",
       "      <td>5</td>\n",
       "      <td>True</td>\n",
       "      <td>0.5</td>\n",
       "      <td>Ados</td>\n",
       "      <td>-0.561053</td>\n",
       "    </tr>\n",
       "    <tr>\n",
       "      <th>2</th>\n",
       "      <td>280</td>\n",
       "      <td>74.995852</td>\n",
       "      <td>150</td>\n",
       "      <td>30</td>\n",
       "      <td>1</td>\n",
       "      <td>40.090382</td>\n",
       "      <td>0</td>\n",
       "      <td>2.0</td>\n",
       "      <td>ABBO</td>\n",
       "      <td>180.000003</td>\n",
       "      <td>...</td>\n",
       "      <td>1000</td>\n",
       "      <td>6.972899</td>\n",
       "      <td>3.492160</td>\n",
       "      <td>15</td>\n",
       "      <td>False</td>\n",
       "      <td>5</td>\n",
       "      <td>False</td>\n",
       "      <td>0.5</td>\n",
       "      <td>Ados</td>\n",
       "      <td>0.323982</td>\n",
       "    </tr>\n",
       "    <tr>\n",
       "      <th>3</th>\n",
       "      <td>280</td>\n",
       "      <td>-333.359488</td>\n",
       "      <td>150</td>\n",
       "      <td>30</td>\n",
       "      <td>1</td>\n",
       "      <td>61.560854</td>\n",
       "      <td>0</td>\n",
       "      <td>2.0</td>\n",
       "      <td>ABBO</td>\n",
       "      <td>277.000003</td>\n",
       "      <td>...</td>\n",
       "      <td>1000</td>\n",
       "      <td>6.965598</td>\n",
       "      <td>-9.804654</td>\n",
       "      <td>15</td>\n",
       "      <td>False</td>\n",
       "      <td>5</td>\n",
       "      <td>True</td>\n",
       "      <td>0.5</td>\n",
       "      <td>Ados</td>\n",
       "      <td>0.781385</td>\n",
       "    </tr>\n",
       "    <tr>\n",
       "      <th>4</th>\n",
       "      <td>280</td>\n",
       "      <td>-161.209803</td>\n",
       "      <td>150</td>\n",
       "      <td>30</td>\n",
       "      <td>1</td>\n",
       "      <td>277.845839</td>\n",
       "      <td>0</td>\n",
       "      <td>2.0</td>\n",
       "      <td>ABBO</td>\n",
       "      <td>132.030118</td>\n",
       "      <td>...</td>\n",
       "      <td>1000</td>\n",
       "      <td>5.999747</td>\n",
       "      <td>6.993699</td>\n",
       "      <td>15</td>\n",
       "      <td>False</td>\n",
       "      <td>5</td>\n",
       "      <td>False</td>\n",
       "      <td>0.5</td>\n",
       "      <td>Ados</td>\n",
       "      <td>1.135932</td>\n",
       "    </tr>\n",
       "    <tr>\n",
       "      <th>...</th>\n",
       "      <td>...</td>\n",
       "      <td>...</td>\n",
       "      <td>...</td>\n",
       "      <td>...</td>\n",
       "      <td>...</td>\n",
       "      <td>...</td>\n",
       "      <td>...</td>\n",
       "      <td>...</td>\n",
       "      <td>...</td>\n",
       "      <td>...</td>\n",
       "      <td>...</td>\n",
       "      <td>...</td>\n",
       "      <td>...</td>\n",
       "      <td>...</td>\n",
       "      <td>...</td>\n",
       "      <td>...</td>\n",
       "      <td>...</td>\n",
       "      <td>...</td>\n",
       "      <td>...</td>\n",
       "      <td>...</td>\n",
       "      <td>...</td>\n",
       "    </tr>\n",
       "    <tr>\n",
       "      <th>145</th>\n",
       "      <td>280</td>\n",
       "      <td>-388.709706</td>\n",
       "      <td>150</td>\n",
       "      <td>30</td>\n",
       "      <td>1</td>\n",
       "      <td>80.236162</td>\n",
       "      <td>1</td>\n",
       "      <td>2.0</td>\n",
       "      <td>VIIO</td>\n",
       "      <td>269.999257</td>\n",
       "      <td>...</td>\n",
       "      <td>1000</td>\n",
       "      <td>8.939875</td>\n",
       "      <td>-25.421056</td>\n",
       "      <td>15</td>\n",
       "      <td>False</td>\n",
       "      <td>5</td>\n",
       "      <td>True</td>\n",
       "      <td>0.7</td>\n",
       "      <td>Enfants</td>\n",
       "      <td>0.715225</td>\n",
       "    </tr>\n",
       "    <tr>\n",
       "      <th>146</th>\n",
       "      <td>280</td>\n",
       "      <td>-557.507521</td>\n",
       "      <td>150</td>\n",
       "      <td>30</td>\n",
       "      <td>1</td>\n",
       "      <td>95.806233</td>\n",
       "      <td>1</td>\n",
       "      <td>0.0</td>\n",
       "      <td>VIIO</td>\n",
       "      <td>139.999998</td>\n",
       "      <td>...</td>\n",
       "      <td>1000</td>\n",
       "      <td>10.003059</td>\n",
       "      <td>27.269307</td>\n",
       "      <td>15</td>\n",
       "      <td>False</td>\n",
       "      <td>5</td>\n",
       "      <td>False</td>\n",
       "      <td>0.7</td>\n",
       "      <td>Enfants</td>\n",
       "      <td>3.930215</td>\n",
       "    </tr>\n",
       "    <tr>\n",
       "      <th>147</th>\n",
       "      <td>280</td>\n",
       "      <td>-56.000634</td>\n",
       "      <td>150</td>\n",
       "      <td>30</td>\n",
       "      <td>1</td>\n",
       "      <td>40.045209</td>\n",
       "      <td>1</td>\n",
       "      <td>2.0</td>\n",
       "      <td>VIIO</td>\n",
       "      <td>121.016286</td>\n",
       "      <td>...</td>\n",
       "      <td>1000</td>\n",
       "      <td>10.754791</td>\n",
       "      <td>-5.047367</td>\n",
       "      <td>15</td>\n",
       "      <td>False</td>\n",
       "      <td>5</td>\n",
       "      <td>True</td>\n",
       "      <td>0.7</td>\n",
       "      <td>Enfants</td>\n",
       "      <td>0.350718</td>\n",
       "    </tr>\n",
       "    <tr>\n",
       "      <th>148</th>\n",
       "      <td>280</td>\n",
       "      <td>-153.943807</td>\n",
       "      <td>150</td>\n",
       "      <td>30</td>\n",
       "      <td>1</td>\n",
       "      <td>40.004612</td>\n",
       "      <td>1</td>\n",
       "      <td>2.0</td>\n",
       "      <td>VIIO</td>\n",
       "      <td>99.000000</td>\n",
       "      <td>...</td>\n",
       "      <td>1000</td>\n",
       "      <td>9.844669</td>\n",
       "      <td>9.607519</td>\n",
       "      <td>15</td>\n",
       "      <td>False</td>\n",
       "      <td>5</td>\n",
       "      <td>True</td>\n",
       "      <td>0.7</td>\n",
       "      <td>Enfants</td>\n",
       "      <td>1.670502</td>\n",
       "    </tr>\n",
       "    <tr>\n",
       "      <th>149</th>\n",
       "      <td>280</td>\n",
       "      <td>-609.999982</td>\n",
       "      <td>150</td>\n",
       "      <td>30</td>\n",
       "      <td>1</td>\n",
       "      <td>719.013869</td>\n",
       "      <td>1</td>\n",
       "      <td>1.0</td>\n",
       "      <td>VIIO</td>\n",
       "      <td>158.999999</td>\n",
       "      <td>...</td>\n",
       "      <td>1000</td>\n",
       "      <td>7.932096</td>\n",
       "      <td>26.345593</td>\n",
       "      <td>15</td>\n",
       "      <td>False</td>\n",
       "      <td>5</td>\n",
       "      <td>False</td>\n",
       "      <td>0.7</td>\n",
       "      <td>Enfants</td>\n",
       "      <td>3.818625</td>\n",
       "    </tr>\n",
       "  </tbody>\n",
       "</table>\n",
       "<p>45869 rows × 22 columns</p>\n",
       "</div>"
      ],
      "text/plain": [
       "     time_sup  start_anti  N_trials  cutoff  N_blocks  ramp_pursuit  bias  \\\n",
       "0         280   66.717233       150      30         1     41.206341     0   \n",
       "1         280   74.818036       150      30         1    526.141661     0   \n",
       "2         280   74.995852       150      30         1     40.090382     0   \n",
       "3         280 -333.359488       150      30         1     61.560854     0   \n",
       "4         280 -161.209803       150      30         1    277.845839     0   \n",
       "..        ...         ...       ...     ...       ...           ...   ...   \n",
       "145       280 -388.709706       150      30         1     80.236162     1   \n",
       "146       280 -557.507521       150      30         1     95.806233     1   \n",
       "147       280  -56.000634       150      30         1     40.045209     1   \n",
       "148       280 -153.943807       150      30         1     40.004612     1   \n",
       "149       280 -609.999982       150      30         1    719.013869     1   \n",
       "\n",
       "     nb_sacc observer     latency  ...  sample_rate  steady_state   old_anti  \\\n",
       "0        4.0     ABBO  306.019016  ...         1000     10.782475   7.200720   \n",
       "1        2.0     ABBO  258.000001  ...         1000      7.171238   6.051199   \n",
       "2        2.0     ABBO  180.000003  ...         1000      6.972899   3.492160   \n",
       "3        2.0     ABBO  277.000003  ...         1000      6.965598  -9.804654   \n",
       "4        2.0     ABBO  132.030118  ...         1000      5.999747   6.993699   \n",
       "..       ...      ...         ...  ...          ...           ...        ...   \n",
       "145      2.0     VIIO  269.999257  ...         1000      8.939875 -25.421056   \n",
       "146      0.0     VIIO  139.999998  ...         1000     10.003059  27.269307   \n",
       "147      2.0     VIIO  121.016286  ...         1000     10.754791  -5.047367   \n",
       "148      2.0     VIIO   99.000000  ...         1000      9.844669   9.607519   \n",
       "149      1.0     VIIO  158.999999  ...         1000      7.932096  26.345593   \n",
       "\n",
       "     after_sacc  do_whitening  before_sacc  near_sacc  Proba Category  \\\n",
       "0            15         False            5       True    0.5     Ados   \n",
       "1            15         False            5       True    0.5     Ados   \n",
       "2            15         False            5      False    0.5     Ados   \n",
       "3            15         False            5       True    0.5     Ados   \n",
       "4            15         False            5      False    0.5     Ados   \n",
       "..          ...           ...          ...        ...    ...      ...   \n",
       "145          15         False            5       True    0.7  Enfants   \n",
       "146          15         False            5      False    0.7  Enfants   \n",
       "147          15         False            5       True    0.7  Enfants   \n",
       "148          15         False            5       True    0.7  Enfants   \n",
       "149          15         False            5      False    0.7  Enfants   \n",
       "\n",
       "        V_app  \n",
       "0    3.117536  \n",
       "1   -0.561053  \n",
       "2    0.323982  \n",
       "3    0.781385  \n",
       "4    1.135932  \n",
       "..        ...  \n",
       "145  0.715225  \n",
       "146  3.930215  \n",
       "147  0.350718  \n",
       "148  1.670502  \n",
       "149  3.818625  \n",
       "\n",
       "[45869 rows x 22 columns]"
      ]
     },
     "execution_count": 167,
     "metadata": {},
     "output_type": "execute_result"
    }
   ],
   "source": [
    "Data"
   ]
  },
  {
   "cell_type": "code",
   "execution_count": 168,
   "id": "1957e7b8",
   "metadata": {},
   "outputs": [
    {
     "data": {
      "text/plain": [
       "1.1970523963575082"
      ]
     },
     "execution_count": 168,
     "metadata": {},
     "output_type": "execute_result"
    }
   ],
   "source": [
    "np.mean(Data[Data.Proba==.7].V_app)"
   ]
  },
  {
   "cell_type": "code",
   "execution_count": 169,
   "id": "af50c1fc",
   "metadata": {},
   "outputs": [],
   "source": [
    "mu=Data.groupby([\"Proba\",'observer']).mean()"
   ]
  },
  {
   "cell_type": "code",
   "execution_count": 170,
   "id": "c07b0bd2",
   "metadata": {},
   "outputs": [],
   "source": [
    "mu.reset_index(inplace=True)"
   ]
  },
  {
   "cell_type": "code",
   "execution_count": 171,
   "id": "85f0261f",
   "metadata": {},
   "outputs": [],
   "source": [
    "x=np.array([0.5,0.7,0.9,1])\n",
    "y=Data.groupby('Proba').mean().V_app\n",
    "z=np.polyfit(x,y,1)\n",
    "p = np.poly1d(z)"
   ]
  },
  {
   "cell_type": "code",
   "execution_count": 172,
   "id": "9235638c",
   "metadata": {},
   "outputs": [
    {
     "data": {
      "text/plain": [
       "array([ 4.94287568, -2.2703413 ])"
      ]
     },
     "execution_count": 172,
     "metadata": {},
     "output_type": "execute_result"
    }
   ],
   "source": [
    "z"
   ]
  },
  {
   "cell_type": "code",
   "execution_count": null,
   "id": "6a874200",
   "metadata": {},
   "outputs": [],
   "source": []
  },
  {
   "cell_type": "code",
   "execution_count": 173,
   "id": "4d376b7e",
   "metadata": {},
   "outputs": [
    {
     "data": {
      "text/plain": [
       "<matplotlib.legend.Legend at 0x17330b130>"
      ]
     },
     "execution_count": 173,
     "metadata": {},
     "output_type": "execute_result"
    },
    {
     "data": {
      "image/png": "[encoded data removed]",
      "text/plain": [
       "<Figure size 1008x720 with 1 Axes>"
      ]
     },
     "metadata": {},
     "output_type": "display_data"
    }
   ],
   "source": [
    "#Theorical plot\n",
    "#Exponentiel Plot\n",
    "v_target=15\n",
    "P=np.linspace(0.5,1,100,endpoint=True)\n",
    "sns.lineplot(data=Data,x='Proba',y='V_app',label=\"Data\")\n",
    "VV=0.08*v_target*0.5*np.log((P+1e-2)/(1-P+1e-2))+0.25\n",
    "plt.plot(P,VV,label=\"Exponential Error Hyp\",lw=3)\n",
    "#Linear Plot\n",
    "VV=0.2*v_target*(2*P-1)\n",
    "#plt.plot(P,VV,label=\"Quadratic Error Hyp\",lw=3)\n",
    "#Fit\n",
    "plt.plot(P, p(P), '-',lw=3,label='Quadratic Error Hyp')\n",
    "#plt.plot(P, pp(P), '-',lw=3,label='Exponential Error Hyp')\n",
    "#plt.hlines(-v_target*0.1,0,1,colors=\"green\")\n",
    "#plt.hlines(v_target*0.1,0,1,colors=\"green\")\n",
    "#plt.vlines(1/(np.exp(2)+1),-2,2,colors=\"green\")\n",
    "#plt.vlines(1/(np.exp(-2)+1),-2,2,colors=\"green\")\n",
    "plt.xlabel(\"Target's Probabilty going right\",fontsize=30)\n",
    "plt.ylabel(\"Anticipatory Velocity(°/s)\",fontsize=30)\n",
    "\n",
    "plt.title(\"Theoretical Plot of the relationship: Proba & Velocity\",fontsize=30)\n",
    "\n",
    "#sns.violinplot(data=mu,'Proba','V_app',label=\"Indivduals\")\n",
    "\n",
    "plt.legend()"
   ]
  },
  {
   "cell_type": "code",
   "execution_count": 174,
   "id": "85f6f67c",
   "metadata": {},
   "outputs": [],
   "source": [
    "Data[\"V_app\"]=(Data.latency.values-Data.start_anti.values)/1000*Data.a_anti.values"
   ]
  },
  {
   "cell_type": "code",
   "execution_count": 175,
   "id": "d5a60f46",
   "metadata": {},
   "outputs": [],
   "source": [
    "#stats.shapiro(Data.V_app)"
   ]
  },
  {
   "cell_type": "code",
   "execution_count": 176,
   "id": "3d6dfa20",
   "metadata": {},
   "outputs": [],
   "source": [
    "Data[\"Delta_v\"]=15*np.array(Data.dir_target)-np.array(Data.V_app)"
   ]
  },
  {
   "cell_type": "code",
   "execution_count": 177,
   "id": "ad33d1be",
   "metadata": {},
   "outputs": [
    {
     "data": {
      "text/plain": [
       "0      11.882464\n",
       "1     -14.438947\n",
       "2     -15.323982\n",
       "3      14.218615\n",
       "4      13.864068\n",
       "         ...    \n",
       "145    14.284775\n",
       "146    11.069785\n",
       "147    14.649282\n",
       "148    13.329498\n",
       "149    11.181375\n",
       "Name: Delta_v, Length: 45869, dtype: float64"
      ]
     },
     "execution_count": 177,
     "metadata": {},
     "output_type": "execute_result"
    }
   ],
   "source": [
    "Data['Delta_v']"
   ]
  },
  {
   "cell_type": "code",
   "execution_count": 178,
   "id": "62443c2c",
   "metadata": {},
   "outputs": [
    {
     "data": {
      "text/plain": [
       "<AxesSubplot: xlabel='Category', ylabel='V_app'>"
      ]
     },
     "execution_count": 178,
     "metadata": {},
     "output_type": "execute_result"
    },
    {
     "data": {
      "image/png": "[encoded data removed]",
      "text/plain": [
       "<Figure size 1008x720 with 1 Axes>"
      ]
     },
     "metadata": {},
     "output_type": "display_data"
    }
   ],
   "source": [
    "sns.boxplot(data=Data,x='Category',y='V_app',hue=\"bias\")"
   ]
  },
  {
   "cell_type": "code",
   "execution_count": 179,
   "id": "fa148af4",
   "metadata": {},
   "outputs": [
    {
     "name": "stdout",
     "output_type": "stream",
     "text": [
      "            Mixed Linear Model Regression Results\n",
      "=============================================================\n",
      "Model:             MixedLM  Dependent Variable:  V_app       \n",
      "No. Observations:  45869    Method:              REML        \n",
      "No. Groups:        2        Scale:               6.5349      \n",
      "Min. group size:   14970    Log-Likelihood:      -108148.4645\n",
      "Max. group size:   30899    Converged:           Yes         \n",
      "Mean group size:   22934.5                                   \n",
      "-------------------------------------------------------------\n",
      "                    Coef. Std.Err.   z    P>|z| [0.025 0.975]\n",
      "-------------------------------------------------------------\n",
      "Intercept           0.948    0.935  1.014 0.311 -0.885  2.781\n",
      "Category[T.Adultes] 0.476    0.029 16.628 0.000  0.419  0.532\n",
      "Category[T.Enfants] 0.141    0.029  4.837 0.000  0.084  0.198\n",
      "Group Var           1.749    1.088                           \n",
      "=============================================================\n",
      "\n"
     ]
    }
   ],
   "source": [
    "md = smf.mixedlm(\"V_app ~Category\", Data, groups=Data[\"bias\"])\n",
    "mdf=md.fit()\n",
    "print(mdf.summary())"
   ]
  },
  {
   "cell_type": "code",
   "execution_count": 180,
   "id": "1eb6c735",
   "metadata": {},
   "outputs": [
    {
     "name": "stdout",
     "output_type": "stream",
     "text": [
      "          Mixed Linear Model Regression Results\n",
      "==========================================================\n",
      "Model:            MixedLM Dependent Variable: V_app       \n",
      "No. Observations: 45869   Method:             REML        \n",
      "No. Groups:       3       Scale:              6.5349      \n",
      "Min. group size:  12721   Log-Likelihood:     -108147.0404\n",
      "Max. group size:  19714   Converged:          Yes         \n",
      "Mean group size:  15289.7                                 \n",
      "-----------------------------------------------------------\n",
      "             Coef.  Std.Err.    z     P>|z|  [0.025  0.975]\n",
      "-----------------------------------------------------------\n",
      "Intercept    0.268     0.142   1.885  0.059  -0.011   0.548\n",
      "bias         1.770     0.025  69.522  0.000   1.720   1.820\n",
      "Group Var    0.060     0.024                               \n",
      "==========================================================\n",
      "\n"
     ]
    }
   ],
   "source": [
    "md = smf.mixedlm(\"V_app ~bias\", Data, groups=Data[\"Category\"])\n",
    "mdf=md.fit()\n",
    "print(mdf.summary())"
   ]
  },
  {
   "cell_type": "code",
   "execution_count": 181,
   "id": "184306a4",
   "metadata": {},
   "outputs": [
    {
     "data": {
      "text/plain": [
       "<AxesSubplot: xlabel='Proba', ylabel='V_app'>"
      ]
     },
     "execution_count": 181,
     "metadata": {},
     "output_type": "execute_result"
    },
    {
     "data": {
      "image/png": "[encoded data removed]",
      "text/plain": [
       "<Figure size 1008x720 with 1 Axes>"
      ]
     },
     "metadata": {},
     "output_type": "display_data"
    }
   ],
   "source": [
    "sns.boxplot(data=Data,x='Proba',y='V_app',hue=\"Category\")"
   ]
  },
  {
   "cell_type": "code",
   "execution_count": 182,
   "id": "1c429256",
   "metadata": {},
   "outputs": [
    {
     "data": {
      "text/plain": [
       "<AxesSubplot: xlabel='Proba', ylabel='V_app'>"
      ]
     },
     "execution_count": 182,
     "metadata": {},
     "output_type": "execute_result"
    },
    {
     "data": {
      "image/png": "[encoded data removed]",
      "text/plain": [
       "<Figure size 1008x720 with 1 Axes>"
      ]
     },
     "metadata": {},
     "output_type": "display_data"
    }
   ],
   "source": [
    "sns.lineplot(data=Data,x='Proba',y='V_app',hue=\"Category\")"
   ]
  },
  {
   "cell_type": "code",
   "execution_count": 183,
   "id": "ffec2c9e",
   "metadata": {},
   "outputs": [
    {
     "name": "stdout",
     "output_type": "stream",
     "text": [
      "           Mixed Linear Model Regression Results\n",
      "============================================================\n",
      "Model:              MixedLM Dependent Variable: V_app       \n",
      "No. Observations:   45869   Method:             REML        \n",
      "No. Groups:         3       Scale:              6.2274      \n",
      "Min. group size:    12721   Log-Likelihood:     -107042.2377\n",
      "Max. group size:    19714   Converged:          Yes         \n",
      "Mean group size:    15289.7                                 \n",
      "------------------------------------------------------------\n",
      "                  Coef.  Std.Err.   z    P>|z| [0.025 0.975]\n",
      "------------------------------------------------------------\n",
      "Intercept         -2.297    0.310 -7.422 0.000 -2.904 -1.691\n",
      "Proba              5.022    0.646  7.771 0.000  3.755  6.288\n",
      "Group Var          0.281    0.239                           \n",
      "Group x Proba Cov -0.590    0.501                           \n",
      "Proba Var          1.242    1.050                           \n",
      "============================================================\n",
      "\n"
     ]
    }
   ],
   "source": [
    "md = smf.mixedlm(\"V_app ~ Proba\", Data, groups=Data[\"Category\"],re_formula=\"~Proba\")\n",
    "mdf=md.fit(method=[\"lbfgs\"])\n",
    "print(mdf.summary())"
   ]
  },
  {
   "cell_type": "code",
   "execution_count": 184,
   "id": "d821ff54",
   "metadata": {},
   "outputs": [
    {
     "data": {
      "text/plain": [
       "array([0.5, 0.7, 0.9, 1. ])"
      ]
     },
     "execution_count": 184,
     "metadata": {},
     "output_type": "execute_result"
    }
   ],
   "source": [
    "np.unique(Data.Proba)"
   ]
  },
  {
   "cell_type": "code",
   "execution_count": 185,
   "id": "7bd4e62a",
   "metadata": {},
   "outputs": [],
   "source": [
    "Data[\"dir_eye\"]=np.sign(Data.a_anti)"
   ]
  },
  {
   "cell_type": "code",
   "execution_count": null,
   "id": "8d29f101",
   "metadata": {},
   "outputs": [],
   "source": []
  },
  {
   "cell_type": "code",
   "execution_count": 186,
   "id": "b9b5b493",
   "metadata": {},
   "outputs": [],
   "source": [
    "Data[\"Outcome\"]=(Data.dir_target-Data.dir_eye)"
   ]
  },
  {
   "cell_type": "code",
   "execution_count": 187,
   "id": "58bed871",
   "metadata": {},
   "outputs": [
    {
     "data": {
      "text/plain": [
       "array([ 0., -2.,  2., -1.,  1.])"
      ]
     },
     "execution_count": 187,
     "metadata": {},
     "output_type": "execute_result"
    }
   ],
   "source": [
    "Data.Outcome.unique()"
   ]
  },
  {
   "cell_type": "code",
   "execution_count": 188,
   "id": "2f83ebb0",
   "metadata": {},
   "outputs": [],
   "source": [
    "Data.loc[Data.Outcome!=0,'Outcome']=1"
   ]
  },
  {
   "cell_type": "code",
   "execution_count": null,
   "id": "44c70596",
   "metadata": {},
   "outputs": [],
   "source": []
  },
  {
   "cell_type": "code",
   "execution_count": 189,
   "id": "d43b6583",
   "metadata": {},
   "outputs": [
    {
     "data": {
      "text/plain": [
       "array([0., 1.])"
      ]
     },
     "execution_count": 189,
     "metadata": {},
     "output_type": "execute_result"
    }
   ],
   "source": [
    "np.unique(Data.Outcome)"
   ]
  },
  {
   "cell_type": "markdown",
   "id": "5675c6fc",
   "metadata": {},
   "source": [
    "## Testing the Bayesian Model on the data:"
   ]
  },
  {
   "cell_type": "code",
   "execution_count": 190,
   "id": "96e4015b",
   "metadata": {},
   "outputs": [],
   "source": [
    "class BetaModel():\n",
    "    def __init__(self,v_target,leak_factor=0.95):             \n",
    "                \n",
    "        self.a = 1  # the number of times this action returned a win       \n",
    "        self.b = 1  # the number of times this action returned a loss\n",
    "        self.n=0 # number of trials \n",
    "        self.omega=leak_factor\n",
    "        self.vt=v_target #is the absolute value of the target velocity\n",
    "        # pass the true probablity of the outcome|action taken              \n",
    "    \n",
    "    def outcome(self,q):        \n",
    "        #return the boolean if 1 means that the eye and target have the same direction otherwwise the eye anticpates in\n",
    "        #the wrong direction\n",
    "        return stats.bernoulli.rvs(q) \n",
    "                    \n",
    "    def update(self,reward):\n",
    "        \"\"\" \n",
    "        reward here is the direction of the eye: 1 if it is the same as the target's direction otherwise 0\n",
    "        \n",
    "        \"\"\"\n",
    "        self.n += 1    \n",
    "        \n",
    "        if reward==1:\n",
    "            self.a += 1\n",
    "        \n",
    "        else:\n",
    "            self.b += 1\n",
    "        \n",
    "        self.a*=self.omega\n",
    "        self.b*=self.omega\n",
    "        \n",
    "    def reset(self):\n",
    "        self.n=0\n",
    "        self.a=1\n",
    "        self.b=1\n",
    "\n",
    "    def sample(self):\n",
    "         #return a value sampled from the beta distribution \n",
    "        return np.random.beta(self.a,self.b)\n",
    "        #return np.mean(np.random.beta(self.a,self.b,10))\n",
    "\n",
    "    def exp_velocity(self):\n",
    "        p=self.a/(self.a+self.b)\n",
    "        #exp Hypothesis\n",
    "        return 0.2*self.vt*1/2*np.log((p)/(1-p))\n",
    "    \n",
    "    def quad_velocity(self):\n",
    "        p=self.a/(self.a+self.b)\n",
    "        #quadratic Hypothesis\n",
    "\n",
    "        return 0.2*self.vt*(2*p-1)\n",
    "\n",
    "        "
   ]
  },
  {
   "cell_type": "code",
   "execution_count": null,
   "id": "a1ac6a8c",
   "metadata": {},
   "outputs": [],
   "source": [
    "v_target=15\n",
    "agent=BetaModel(v_target)\n",
    "mu=[]\n",
    "VExp=[]\n",
    "VQuad=[]\n",
    "O=[]\n",
    "VVQuad=[]\n",
    "VVExp=[]\n",
    "V_Indiv=[]\n",
    "OOO=[]\n",
    "MU=[]\n",
    "#Probability of the target going right \n",
    "for obs in np.unique(Data.observer):\n",
    "    vIndiv=[]\n",
    "    P=np.unique(Data.loc[Data.observer==obs,'Proba'])\n",
    "    if len(P)==4:\n",
    "        for p in np.unique(Data.loc[Data.observer==obs,'Proba']):\n",
    "\n",
    "            targetDirection=Data[(Data.Proba==p) & (Data.observer==obs)].dir_target\n",
    "            eyeDirection=np.sign(Data[(Data.Proba==p) & (Data.observer==obs)].a_anti)\n",
    "\n",
    "            res=targetDirection==eyeDirection\n",
    "\n",
    "            O=np.array([int(r) for r in res])\n",
    "            #O=targetDirection\n",
    "            vv1=[]\n",
    "            vv2=[]\n",
    "            for o in O : \n",
    "                agent.update(o)\n",
    "                vv1.append(agent.quad_velocity())\n",
    "                vv2.append(agent.exp_velocity())\n",
    "\n",
    "            #updating the model\n",
    "            VQuad.append(np.mean(vv1))\n",
    "            VExp.append(np.mean(vv2))\n",
    "\n",
    "            mu.append(agent.a/(agent.a+agent.b))\n",
    "            vIndiv.append(np.mean(Data[(Data.Proba==p) & (Data.observer==obs)].V_app))\n",
    "        V_Indiv.append(vIndiv)  \n",
    "        VVExp.append(VExp)\n",
    "        VVQuad.append(VQuad)\n",
    "        OOO.append(O)\n",
    "        MU.append(mu)\n",
    "\n",
    "    #print(\"The estimated probability of the target going right estimated by the agent is:\",agent.a/(agent.a+agent.b))\n",
    "    #print(\"The antipatory velocity of the agent is \", V[-1])\n",
    "    mu=[]\n",
    "    VExp=[]\n",
    "    VQuad=[]\n",
    "    O=[]\n",
    "    \n",
    "    agent.reset()\n"
   ]
  },
  {
   "cell_type": "code",
   "execution_count": null,
   "id": "854e047d",
   "metadata": {},
   "outputs": [],
   "source": [
    "0.5 in [0.7,0.9,1]"
   ]
  },
  {
   "cell_type": "code",
   "execution_count": null,
   "id": "c0c8a6be",
   "metadata": {},
   "outputs": [],
   "source": [
    "np.mean(MU,axis=0)"
   ]
  },
  {
   "cell_type": "code",
   "execution_count": null,
   "id": "c85a20bf",
   "metadata": {},
   "outputs": [],
   "source": [
    "np.mean(MU,axis=0)"
   ]
  },
  {
   "cell_type": "code",
   "execution_count": null,
   "id": "e2873236",
   "metadata": {},
   "outputs": [],
   "source": [
    "np.mean(VVExp,axis=0)"
   ]
  },
  {
   "cell_type": "code",
   "execution_count": null,
   "id": "4cef5b2c",
   "metadata": {},
   "outputs": [],
   "source": [
    "np.mean(VVQuad,axis=0)"
   ]
  },
  {
   "cell_type": "code",
   "execution_count": null,
   "id": "0c64d269",
   "metadata": {},
   "outputs": [],
   "source": [
    "mu=Data.groupby([\"Proba\",'observer']).mean()"
   ]
  },
  {
   "cell_type": "code",
   "execution_count": null,
   "id": "39df84dc",
   "metadata": {},
   "outputs": [],
   "source": [
    "mu.reset_index(inplace=True)"
   ]
  },
  {
   "cell_type": "code",
   "execution_count": null,
   "id": "30d54b65",
   "metadata": {},
   "outputs": [],
   "source": [
    "mu.groupby(\"Proba\").mean().V_app"
   ]
  },
  {
   "cell_type": "code",
   "execution_count": null,
   "id": "1a90153d",
   "metadata": {},
   "outputs": [],
   "source": [
    "x=np.array([0.5,0.7,0.9,1])\n",
    "y=Data.groupby('Proba').mean().V_app\n",
    "z=np.polyfit(x,y,1)\n",
    "p = np.poly1d(z)"
   ]
  },
  {
   "cell_type": "code",
   "execution_count": null,
   "id": "8071c1ce",
   "metadata": {},
   "outputs": [],
   "source": [
    "#Theorical plot\n",
    "#Exponentiel Plot\n",
    "v_target=15\n",
    "\n",
    "P=np.linspace(0.5,1,100,endpoint=True)\n",
    "sns.lineplot(data=Data,x='Proba',y='V_app',label=\"Data\")\n",
    "#Fit\n",
    "#plt.plot(P, p(P), '-',lw=3,label='Quadratic Error Hyp')\n",
    "plt.plot(np.unique(Data.Proba),np.mean(VVExp,axis=0) , '-',lw=3,label='Exponential Error Hyp')\n",
    "plt.plot(np.unique(Data.Proba),np.mean(VVQuad,axis=0) , '-',lw=3,label='Exponential Error Hyp')\n",
    "#plt.hlines(-v_target*0.1,0,1,colors=\"green\")\n",
    "#plt.hlines(v_target*0.1,0,1,colors=\"green\")\n",
    "#plt.vlines(1/(np.exp(2)+1),-2,2,colors=\"green\")\n",
    "#plt.vlines(1/(np.exp(-2)+1),-2,2,colors=\"green\")\n",
    "plt.xlabel(\"$\\mathbb{P}$(Target's direction=Right)\",fontsize=20)\n",
    "plt.ylabel(\"Anticipatory Velocity(°/s)\",fontsize=20)\n",
    "\n",
    "plt.title(\"Anticipatory velocity given $\\mathbb{P}$(Target's direction=Right): Model and Individuals\",fontsize=20)\n",
    "\n",
    "plt.scatter(mu.Proba,mu.V_app,label='Individual',color='gray',alpha=0.2)\n",
    "\n",
    "plt.legend()\n",
    "plt.savefig('quadvsexp')"
   ]
  },
  {
   "cell_type": "code",
   "execution_count": null,
   "id": "0bcb2504",
   "metadata": {},
   "outputs": [],
   "source": [
    "mu"
   ]
  },
  {
   "cell_type": "code",
   "execution_count": null,
   "id": "2baf1844",
   "metadata": {},
   "outputs": [],
   "source": [
    "sns.lmplot(x='Proba',y=\"V_app\",data=mu)"
   ]
  },
  {
   "cell_type": "code",
   "execution_count": null,
   "id": "dcd2ae1e",
   "metadata": {},
   "outputs": [],
   "source": [
    "np.shape(np.array(VVExp))"
   ]
  },
  {
   "cell_type": "code",
   "execution_count": null,
   "id": "37baa6b9",
   "metadata": {},
   "outputs": [],
   "source": [
    "np.shape(np.array(VVQuad))"
   ]
  },
  {
   "cell_type": "code",
   "execution_count": null,
   "id": "cd01bc67",
   "metadata": {},
   "outputs": [],
   "source": [
    "Prob=np.array([0.5,0.7,0.9,1]*96)"
   ]
  },
  {
   "cell_type": "code",
   "execution_count": null,
   "id": "287842e4",
   "metadata": {},
   "outputs": [],
   "source": [
    "VeloData=np.array((np.reshape(VVExp,96*4),np.reshape(VVQuad,96*4),np.reshape(V_Indiv,96*4),Prob,np.reshape(MU,96*4))).T\n",
    "np.shape(VeloData)"
   ]
  },
  {
   "cell_type": "code",
   "execution_count": null,
   "id": "ac4b2208",
   "metadata": {},
   "outputs": [],
   "source": [
    "np.shape(V_Indiv)"
   ]
  },
  {
   "cell_type": "code",
   "execution_count": null,
   "id": "33d6b0c4",
   "metadata": {},
   "outputs": [],
   "source": [
    "np.shape(VVQuad)"
   ]
  },
  {
   "cell_type": "code",
   "execution_count": null,
   "id": "2a477f9e",
   "metadata": {},
   "outputs": [],
   "source": [
    "np.shape(VVExp)"
   ]
  },
  {
   "cell_type": "code",
   "execution_count": null,
   "id": "e7c1d77f",
   "metadata": {},
   "outputs": [],
   "source": [
    "np.shape(Prob)"
   ]
  },
  {
   "cell_type": "code",
   "execution_count": null,
   "id": "1836e6a6",
   "metadata": {},
   "outputs": [],
   "source": [
    "Velocity_Data=pd.DataFrame(VeloData,columns=[\"Exp\",\"Quad\",\"Indiv\",\"Proba\",\"Est_Proba\"])\n",
    "Velocity_Data"
   ]
  },
  {
   "cell_type": "code",
   "execution_count": null,
   "id": "61701796",
   "metadata": {},
   "outputs": [],
   "source": [
    "sns.scatterplot(x=\"Indiv\",y=\"Exp\",hue=\"Proba\",data=Velocity_Data,palette=\"viridis\",s=100,alpha=0.7)"
   ]
  },
  {
   "cell_type": "code",
   "execution_count": null,
   "id": "d65cde26",
   "metadata": {},
   "outputs": [],
   "source": [
    "sns.lmplot(x=\"Indiv\",y=\"Exp\",data=Velocity_Data)"
   ]
  },
  {
   "cell_type": "code",
   "execution_count": null,
   "id": "0bc3f3ed",
   "metadata": {},
   "outputs": [],
   "source": [
    "sns.scatterplot(x=\"Indiv\",y=\"Quad\",hue=\"Proba\",data=Velocity_Data,palette=\"viridis\",alpha=0.7,s=100)"
   ]
  },
  {
   "cell_type": "code",
   "execution_count": null,
   "id": "5064bce4",
   "metadata": {},
   "outputs": [],
   "source": [
    "sns.lmplot(x=\"Indiv\",y=\"Quad\",data=Velocity_Data)"
   ]
  },
  {
   "cell_type": "code",
   "execution_count": null,
   "id": "663a9036",
   "metadata": {
    "scrolled": true
   },
   "outputs": [],
   "source": [
    "\n",
    "for vExp,vQuad,vObs in zip(VVExp,VVQuad,V_Indiv):\n",
    "        plt.plot(np.unique(Data.Proba),vObs , '-',lw=3,label='Individual data')\n",
    "        #plt.plot(np.unique(Data.Proba),vExp , '-',lw=3,label='Exponential Error Hyp')\n",
    "        #plt.plot(np.unique(Data.Proba),vQuad , '-',lw=3,label='Quadratic Error Hyp')\n",
    "        plt.xlabel(\"$\\mathbb{P}$(Target's direction=Right)\",fontsize=20)\n",
    "        plt.ylabel(\"Anticipatory Velocity(°/s)\",fontsize=20)\n",
    "        plt.ylim(-0.5,5)\n",
    "        plt.xlim(0.7,1.1)\n",
    "        plt.legend()\n",
    "        plt.show()"
   ]
  },
  {
   "cell_type": "code",
   "execution_count": null,
   "id": "64c61df1",
   "metadata": {},
   "outputs": [],
   "source": [
    "sns.violinplot(data=mu,x='Proba',y='V_app')"
   ]
  },
  {
   "cell_type": "code",
   "execution_count": null,
   "id": "c7d2fe1d",
   "metadata": {},
   "outputs": [],
   "source": [
    "np.mean(np.array(MU),axis=0)"
   ]
  },
  {
   "cell_type": "code",
   "execution_count": null,
   "id": "2fd424aa",
   "metadata": {},
   "outputs": [],
   "source": [
    "mu"
   ]
  },
  {
   "cell_type": "code",
   "execution_count": null,
   "id": "77d681dc",
   "metadata": {},
   "outputs": [],
   "source": [
    "plt.plot(Data[Data.observer==\"ABBO\"].V_app[:50])\n",
    "plt.plot(Data[Data.observer==\"ABBO\"].Proba[:50]*10)\n",
    "plt.plot(Data[Data.observer==\"ABBO\"].dir_target[:50]*10)"
   ]
  },
  {
   "cell_type": "code",
   "execution_count": null,
   "id": "8d8e1a8a",
   "metadata": {
    "scrolled": false
   },
   "outputs": [],
   "source": [
    "plt.plot(Data[Data.observer==\"ABBO\"].V_app[150:300])\n",
    "plt.plot(Data[Data.observer==\"ABBO\"].Proba[150:300]*10)\n",
    "plt.plot(Data[Data.observer==\"ABBO\"].dir_target[150:300]*10)\n",
    "plt.plot(Data[Data.observer==\"ABBO\"].V_app[150:300].rolling(window=20).mean().iloc[19:],lw=3)"
   ]
  },
  {
   "cell_type": "code",
   "execution_count": null,
   "id": "cd9bbc98",
   "metadata": {},
   "outputs": [],
   "source": [
    "plt.plot(Data[Data.observer==\"VIIO\"].V_app[:150])\n",
    "plt.plot(Data[Data.observer==\"VIIO\"].Proba[:150]*10)\n",
    "plt.plot(Data[Data.observer==\"VIIO\"].dir_target[:150]*10)\n",
    "plt.plot(Data[Data.observer==\"VIIO\"].V_app[:150].rolling(20).mean().iloc[19:],lw=3)"
   ]
  },
  {
   "cell_type": "code",
   "execution_count": null,
   "id": "ca0999f8",
   "metadata": {},
   "outputs": [],
   "source": [
    "#plt.plot(Data[Data.observer==\"ADGO\"].V_app[300:450])\n",
    "plt.plot(Data[Data.observer==\"ADGO\"].Proba[300:450]*15)\n",
    "plt.plot(Data[Data.observer==\"ADGO\"].dir_target[300:450]*15)\n",
    "plt.scatter([k for k in range(18,150)],Data[Data.observer==\"ADGO\"].V_app[300:450])\n",
    "plt.plot(Data[Data.observer==\"ADGO\"].V_app[300:450].rolling(window=20).mean().iloc[19:],lw=3)"
   ]
  },
  {
   "cell_type": "code",
   "execution_count": null,
   "id": "66cefd65",
   "metadata": {},
   "outputs": [],
   "source": [
    "len(Data[Data.observer==\"ADGO\"].V_app[300:450])"
   ]
  },
  {
   "cell_type": "code",
   "execution_count": null,
   "id": "411989e7",
   "metadata": {},
   "outputs": [],
   "source": [
    "plt.plot(Data[Data.observer==\"VIIO\"].V_app[:149])\n",
    "plt.plot(Data[Data.observer==\"THLA\"].Proba[:149]*10)\n",
    "plt.plot(Data[Data.observer==\"THLA\"].dir_target[:149]*15)\n",
    "plt.plot(Data[Data.observer==\"VIIO\"].V_app[:149].rolling(window=20).mean().iloc[19:],lw=3)"
   ]
  },
  {
   "cell_type": "code",
   "execution_count": null,
   "id": "a1580dc6",
   "metadata": {},
   "outputs": [],
   "source": [
    "plt.plot(Data[Data.observer==\"ADGO\"].V_app[300:450],label=\"Vapp\")\n",
    "plt.plot(Data[Data.observer==\"ADGO\"].Proba[300:450]*10,label=\"Probax10\")\n",
    "plt.plot(Data[Data.observer==\"ADGO\"].dir_target[300:450]*15,label=\"Target direction\")\n",
    "plt.plot(Data[Data.observer==\"ADGO\"].old_anti[300:450]*0.1,label=\"Old_anti\")\n",
    "plt.legend()"
   ]
  },
  {
   "cell_type": "code",
   "execution_count": null,
   "id": "5e6d246d",
   "metadata": {},
   "outputs": [],
   "source": [
    "Data.columns"
   ]
  },
  {
   "cell_type": "code",
   "execution_count": null,
   "id": "6870412b",
   "metadata": {},
   "outputs": [],
   "source": [
    "np.mean(Data[Data.observer==\"THLA\"].V_app[350:450])"
   ]
  },
  {
   "cell_type": "code",
   "execution_count": null,
   "id": "4b949292",
   "metadata": {},
   "outputs": [],
   "source": [
    "plt.plot(Data[Data.observer==\"THLA\"].V_app[300:450],label=\"Vapp\")\n",
    "plt.plot(Data[Data.observer==\"THLA\"].Proba[300:450]*10,label=\"Probax10\")\n",
    "plt.plot(Data[Data.observer==\"THLA\"].dir_target[300:450]*15,label=\"Target direction\")\n",
    "plt.plot(Data[Data.observer==\"THLA\"].old_anti[300:450]*0.1,label=\"Old_anti\")\n",
    "plt.legend()"
   ]
  },
  {
   "cell_type": "code",
   "execution_count": null,
   "id": "24354763",
   "metadata": {},
   "outputs": [],
   "source": [
    "plt.scatter(Data[Data.observer==\"THLA\"].old_anti[300:450]*0.1,Data[Data.observer==\"THLA\"].V_app[300:450])"
   ]
  },
  {
   "cell_type": "code",
   "execution_count": null,
   "id": "92313eae",
   "metadata": {},
   "outputs": [],
   "source": [
    "sns.lmplot(data=Data[Data.observer==\"THLA\"],x='old_anti',y='V_app')"
   ]
  },
  {
   "cell_type": "code",
   "execution_count": null,
   "id": "c0207c8b",
   "metadata": {},
   "outputs": [],
   "source": [
    "Data"
   ]
  },
  {
   "cell_type": "code",
   "execution_count": null,
   "id": "cf2a770a",
   "metadata": {},
   "outputs": [],
   "source": [
    "Data.loc[2].V_app.mean()"
   ]
  },
  {
   "cell_type": "code",
   "execution_count": null,
   "id": "cdc33259",
   "metadata": {},
   "outputs": [],
   "source": [
    "Data[Data.N_trials==150].loc[149]"
   ]
  },
  {
   "cell_type": "code",
   "execution_count": null,
   "id": "ac97f8fb",
   "metadata": {},
   "outputs": [],
   "source": [
    "np.unique(Data.observer)"
   ]
  },
  {
   "cell_type": "code",
   "execution_count": null,
   "id": "0f0e395a",
   "metadata": {},
   "outputs": [],
   "source": [
    "for obs in np.unique(Data.observer):\n",
    "    d1=Data[(Data.observer==obs)]\n",
    "    print(obs,len(Data[(Data.observer==obs)]))"
   ]
  },
  {
   "cell_type": "code",
   "execution_count": null,
   "id": "4cedc767",
   "metadata": {},
   "outputs": [],
   "source": [
    "Data"
   ]
  },
  {
   "cell_type": "code",
   "execution_count": null,
   "id": "66148e76",
   "metadata": {},
   "outputs": [],
   "source": [
    "import math"
   ]
  },
  {
   "cell_type": "code",
   "execution_count": null,
   "id": "74605908",
   "metadata": {},
   "outputs": [],
   "source": [
    "print(math.nan)"
   ]
  },
  {
   "cell_type": "code",
   "execution_count": null,
   "id": "cbbbf13a",
   "metadata": {},
   "outputs": [],
   "source": [
    "uu=np.array([math.nan]*2+[1,2])"
   ]
  },
  {
   "cell_type": "code",
   "execution_count": null,
   "id": "3d2bb9c2",
   "metadata": {},
   "outputs": [],
   "source": [
    "uu"
   ]
  },
  {
   "cell_type": "code",
   "execution_count": null,
   "id": "806f84d5",
   "metadata": {},
   "outputs": [],
   "source": [
    "np.nanmean(uu)"
   ]
  },
  {
   "cell_type": "code",
   "execution_count": null,
   "id": "e7902f9b",
   "metadata": {},
   "outputs": [],
   "source": [
    "Data[Data.observer==\"FEGA\"].V_app"
   ]
  },
  {
   "cell_type": "code",
   "execution_count": null,
   "id": "53db6c2b",
   "metadata": {},
   "outputs": [],
   "source": [
    "f='/Users/hamzahalloway/Nextcloud/Shared/HAMZA_PhD/Data/Probant_DevAsd/DATA/Controles/Ados/ABBO/ABBOa90.asc'"
   ]
  },
  {
   "cell_type": "code",
   "execution_count": null,
   "id": "e25cbf56",
   "metadata": {},
   "outputs": [],
   "source": [
    "import re\n",
    "from datetime import datetime\n",
    "with open(f,'r') as file:\n",
    "    lines = file.readlines()\n",
    "inp = [line.encode('ascii', 'ignore').decode() for line in lines]"
   ]
  },
  {
   "cell_type": "code",
   "execution_count": null,
   "id": "17efa579",
   "metadata": {},
   "outputs": [],
   "source": [
    "inp"
   ]
  },
  {
   "cell_type": "code",
   "execution_count": null,
   "id": "2fc2948b",
   "metadata": {},
   "outputs": [],
   "source": [
    "inp_first = [re.split(r'\\s', s)[0] for s in inp]"
   ]
  },
  {
   "cell_type": "code",
   "execution_count": null,
   "id": "74862e78",
   "metadata": {},
   "outputs": [],
   "source": []
  },
  {
   "cell_type": "code",
   "execution_count": null,
   "id": "560bb806",
   "metadata": {},
   "outputs": [],
   "source": [
    "is_raw = [bool(re.match('^[0-9]', line)) for line in inp_first]\n",
    "#is_raw2 = [re.match(r'^\\d', s) is not None for s in inp_first]"
   ]
  },
  {
   "cell_type": "code",
   "execution_count": null,
   "id": "625961f1",
   "metadata": {},
   "outputs": [],
   "source": []
  },
  {
   "cell_type": "markdown",
   "id": "cac04c24",
   "metadata": {},
   "source": [
    "## Transforming .asc file into dataframe"
   ]
  },
  {
   "cell_type": "code",
   "execution_count": null,
   "id": "4c96029b",
   "metadata": {},
   "outputs": [],
   "source": [
    "\n",
    "def from_header(header, field):\n",
    "    pattern = r\"\\*\\* {}\\s*: (.*)\".format(re.escape(field))\n",
    "    matches = [re.findall(pattern, line) for line in header]\n",
    "    matches = [match for match in matches if match]\n",
    "    return matches[0][0] if matches else None\n",
    "\n",
    "    \n",
    "\n",
    "\n",
    "\n",
    "\n",
    "\n",
    "def process_events(rows, blocks, colnames):\n",
    "    # If no data, create empty dataframe w/ all cols and types\n",
    "    if len(rows) == 0:\n",
    "        rows = [\"\", \"\"]\n",
    "        blocks = []\n",
    "    # Parse data, dropping useless first column\n",
    "    if len(rows) == 1:\n",
    "        rows.append(\"\")\n",
    "    colnames = ['type'] + colnames # first col is event type, which we drop later\n",
    "    coltypes = get_coltypes(colnames)\n",
    "    df = pd.read_csv(io.StringIO('\\n'.join(rows)), delimiter='\\s+', header=None, names=colnames, na_values='.', index_col=False)\n",
    "    df = df.iloc[:, 1:] # drop the first column\n",
    "    # Move eye column to end & make factor, append block numbers to beginning of data frame\n",
    "    if 'eye' in colnames:\n",
    "        df = df.iloc[:, [1] + list(range(2, df.shape[1])) + [0]]\n",
    "        df['eye'] = pd.Categorical(df['eye'], categories=[\"L\", \"R\"], ordered=False)\n",
    "    df.insert(loc=0, column='block', value=blocks)\n",
    "    return df\n",
    "\n",
    "\n",
    "\n",
    "\n",
    "def process_saccades(saccades, blocks, info):\n",
    "    sacc_df = process_events(saccades, blocks, get_sacc_header(info))\n",
    "    # Set amplitudes for any saccades missing start/end coords to NAs because they're wonky\n",
    "    ampl_cols = [col for col in sacc_df.columns if re.search(r'ampl\\d*$', col)]\n",
    "    partial = sacc_df['sxp'].isna() | sacc_df['exp'].isna()\n",
    "    if any(partial):\n",
    "        sacc_df.loc[partial, ampl_cols] = pd.NA\n",
    "    return sacc_df\n",
    "\n",
    "\n",
    "def process_fixations(fixations, blocks, info):\n",
    "    return process_events(fixations, blocks, get_fix_header(info))\n",
    "\n",
    "\n",
    "def process_blinks(blinks, blocks):\n",
    "    return process_events(blinks, blocks, ['eye', 'stime', 'etime', 'dur'])\n",
    "\n",
    "\n",
    "def process_messages(msgs, blocks):\n",
    "    # Process messages from tracker\n",
    "    msg_mat = [msg.split(' ', 1) for msg in msgs]\n",
    "    msg_mat = [[msg[0][4:], msg[1]] for msg in msg_mat]\n",
    "    msg_df = pd.DataFrame(msg_mat, columns=['time', 'text'])\n",
    "    msg_df['time'] = pd.to_numeric(msg_df['time'])\n",
    "    # Append block numbers to beginning of data frame\n",
    "    msg_df.insert(0, 'block', blocks)\n",
    "    return msg_df\n",
    "\n",
    "\n",
    "def process_input(input_data, blocks):\n",
    "    return process_events(input_data, blocks, ['time', 'value'])\n",
    "\n",
    "\n",
    "def process_buttons(button, blocks):\n",
    "    return process_events(button, blocks, ['time', 'button', 'state'])\n"
   ]
  },
  {
   "cell_type": "code",
   "execution_count": null,
   "id": "ce8f5f22",
   "metadata": {},
   "outputs": [],
   "source": [
    "def get_model(header):\n",
    "    version_str = from_header(header, \"VERSION\")\n",
    "    version_str2 = [x for x in header if re.search(\"\\\\*\\\\* EYELINK II\", x)]\n",
    "    if version_str is None:\n",
    "        model = \"Unknown\"\n",
    "        ver_num = \"Unknown\"\n",
    "    elif version_str != 'EYELINK II 1':\n",
    "        model = \"EyeLink I\"\n",
    "        ver_num = re.search(r'(\\d+.\\d+)', version_str).group(1)\n",
    "    else:\n",
    "        ver_num = re.search(r'v(\\d+.\\d+)', version_str2[0]).group(1)\n",
    "        model = ('EyeLink II' if float(ver_num) < 2.4 else\n",
    "                 'EyeLink 1000' if float(ver_num) < 5 else\n",
    "                 'EyeLink 1000 Plus' if float(ver_num) < 6 else\n",
    "                 'EyeLink Portable Duo')\n",
    "    return [model, ver_num]"
   ]
  },
  {
   "cell_type": "code",
   "execution_count": null,
   "id": "e9483df4",
   "metadata": {},
   "outputs": [],
   "source": [
    "def get_resolution(nonsample):\n",
    "    res = [None, None]\n",
    "    for pattern in [\"DISPLAY_COORDS\", \"GAZE_COORDS\", \"RESOLUTION\"]:\n",
    "        display_xy = [s for s in nonsample if pattern in s]\n",
    "        if len(display_xy) == 0:\n",
    "            continue\n",
    "        display_xy = re.sub(f\".* {pattern}\\\\D+(.*)\", \"\\\\1\", display_xy[0])\n",
    "        try:\n",
    "            display_xy = [int(float(s)) for s in display_xy.split()]\n",
    "        except ValueError:\n",
    "            continue\n",
    "        res = [display_xy[2] - display_xy[0] + 1, display_xy[3] - display_xy[1] + 1]\n",
    "        break\n",
    "    return res\n"
   ]
  },
  {
   "cell_type": "code",
   "execution_count": null,
   "id": "0e74b7db",
   "metadata": {},
   "outputs": [],
   "source": [
    "def get_mount(mount_str):\n",
    "    # Older EyeLink 1000s may be missing \"R\" in table mount names, we add one if needed\n",
    "    if re.search(\"TABLE$\", mount_str):\n",
    "        mount_str = mount_str + \"R\"\n",
    "    \n",
    "    mounts = {\n",
    "        \"MTABLER\": \"Desktop / Monocular / Head Stabilized\",\n",
    "        \"BTABLER\": \"Desktop / Binocular / Head Stabilized\",\n",
    "        \"RTABLER\": \"Desktop / Monocular / Remote\",\n",
    "        \"RBTABLER\": \"Desktop / Binocular / Remote\",\n",
    "        \"AMTABLER\": \"Arm Mount / Monocular / Head Stabilized\",\n",
    "        \"ARTABLER\": \"Arm Mount / Monocular / Remote\",\n",
    "        \"TOWER\": \"Tower Mount / Monocular / Head Stabilized\",\n",
    "        \"BTOWER\": \"Tower Mount / Binocular / Head Stabilized\",\n",
    "        \"MPRIM\": \"Primate Mount / Monocular / Head Stabilized\",\n",
    "        \"BPRIM\": \"Primate Mount / Binocular / Head Stabilized\",\n",
    "        \"MLRR\": \"Long-Range Mount / Monocular / Head Stabilized\",\n",
    "        \"BLRR\": \"Long-Range Mount / Binocular / Head Stabilized\"\n",
    "    }\n",
    "    \n",
    "    return mounts[mount_str] if mount_str in mounts else None"
   ]
  },
  {
   "cell_type": "code",
   "execution_count": null,
   "id": "3faed289",
   "metadata": {},
   "outputs": [],
   "source": [
    "def get_info(nonsample, firstcol):\n",
    "    header = [f for f in nonsample if f.startswith (\"**\")]\n",
    "    info = {}\n",
    "    \n",
    "    # Get date/time of recording from file\n",
    "    datetime.strptime(from_header(header, \"DATE\"), \"%a %b %d %H:%M:%S %Y\")\n",
    "    # Get tracker model/version info\n",
    "    version_info = get_model(header)\n",
    "    info[\"model\"] = version_info[0]\n",
    "    info[\"version\"] = version_info[1]\n",
    "\n",
    "    # Get tracker mount info\n",
    "    elclcfg = [line for line in nonsample if \"ELCLCFG\" in line]\n",
    "    if len(elclcfg) > 0:\n",
    "        info[\"mount\"] = get_mount(re.findall(r\"ELCLCFG\\s+(.*)\", elclcfg[0])[0])\n",
    "\n",
    "    # Get display size from file\n",
    "    screen_res = get_resolution(nonsample)\n",
    "    info[\"screen.x\"] = screen_res[0]\n",
    "    info[\"screen.y\"] = screen_res[1]\n",
    "\n",
    "    #Get pupil size data type (area or diameter)\n",
    "    pupil_config = [line for i,line in enumerate(nonsample) if firstcol[i] == \"PUPIL\"]\n",
    "    if len(pupil_config) > 0:\n",
    "        info[\"pupil.dtype\"] = pupil_config[-1].split()[1]\n",
    "\n",
    "    # Find the samples and events config lines in the non-sample input, get data types\n",
    "    events_config = [line for i,line in enumerate(nonsample) if firstcol[i] == \"EVENTS\"]\n",
    "    samples_config = [line for i,line in enumerate(nonsample) if firstcol[i]== \"SAMPLES\"]\n",
    "    \n",
    "    # Find the samples and events config lines in the non-sample input, get data types\n",
    "    events_config = [line for i,line in enumerate(nonsample) if firstcol[i] == \"EVENTS\"]\n",
    "    samples_config = [line for i,line in enumerate(nonsample) if firstcol[i] == \"SAMPLES\"]\n",
    "    if len(events_config) > 0:\n",
    "        info[\"event.dtype\"] = events_config[-1].split()[1]\n",
    "    if len(samples_config) > 0:\n",
    "        info[\"sample.dtype\"] = samples_config[-1].split()[1]\n",
    "    \n",
    "   \n",
    "        \n",
    "    \n",
    "    # Get last config line in file (preferring sample config) and extract remaining info\n",
    "    config = events_config + samples_config[-1:]\n",
    "    config = config[-1] if len(config) > 0 else \"\"\n",
    "    if config:\n",
    "        info[\"sample.rate\"] = float(re.findall(r\"RATE\\s+([0-9]+\\.[0-9]+)\", config)[0]) if \"RATE\" in config else None\n",
    "        info[\"tracking\"] = \"\\tTRACKING\" in config\n",
    "        info[\"cr\"] = \"\\tCR\" in config\n",
    "        info[\"filter.level\"] = int(re.findall(r\"FILTER\\s+([0-9]+)\", config)[0]) if \"FILTER\" in config else None\n",
    "        info[\"velocity\"] = \"\\tVEL\" in config\n",
    "        info[\"resolution\"] = \"\\tRES\" in config\n",
    "        info[\"htarg\"] = \"\\tHTARG\" in config\n",
    "        info[\"input\"] = \"\\tINPUT\" in config\n",
    "        info[\"buttons\"] = \"\\tBUTTONS\" in config\n",
    "        info[\"left\"] = \"\\tLEFT\" in config\n",
    "        info[\"right\"] = \"\\tRIGHT\" in config\n",
    "        info[\"mono\"] = not(info[\"right\"] & info[\"left\"])\n",
    "\n",
    "\n",
    "\n",
    "    return info\n"
   ]
  },
  {
   "cell_type": "code",
   "execution_count": null,
   "id": "ab8a380f",
   "metadata": {},
   "outputs": [],
   "source": [
    "nonsample=[line for line, raw in zip(inp, is_raw) if not raw]\n"
   ]
  },
  {
   "cell_type": "code",
   "execution_count": null,
   "id": "89f03c44",
   "metadata": {},
   "outputs": [],
   "source": [
    "firstcol=[line for line, raw in zip(inp_first, is_raw) if not raw]"
   ]
  },
  {
   "cell_type": "code",
   "execution_count": null,
   "id": "d8ab9899",
   "metadata": {},
   "outputs": [],
   "source": [
    "header = [f for f in nonsample if f.startswith (\"**\")]\n"
   ]
  },
  {
   "cell_type": "code",
   "execution_count": null,
   "id": "15a17263",
   "metadata": {},
   "outputs": [],
   "source": [
    "header"
   ]
  },
  {
   "cell_type": "code",
   "execution_count": null,
   "id": "7f319cc9",
   "metadata": {},
   "outputs": [],
   "source": [
    "version_str = from_header(header, \"VERSION\")\n",
    "version_str2 = [x for x in header if re.search(\"\\\\*\\\\* EYELINK II\", x)]"
   ]
  },
  {
   "cell_type": "code",
   "execution_count": null,
   "id": "7b1d8da7",
   "metadata": {},
   "outputs": [],
   "source": [
    "version_str\n"
   ]
  },
  {
   "cell_type": "code",
   "execution_count": null,
   "id": "2b3ce429",
   "metadata": {},
   "outputs": [],
   "source": [
    "version_str2"
   ]
  },
  {
   "cell_type": "code",
   "execution_count": null,
   "id": "3c332f6f",
   "metadata": {},
   "outputs": [],
   "source": [
    "from_header(header, \"DATE\")"
   ]
  },
  {
   "cell_type": "code",
   "execution_count": null,
   "id": "4033b1a8",
   "metadata": {},
   "outputs": [],
   "source": [
    "ver_num = re.search(r'(\\d+.\\d+)', version_str2[0])"
   ]
  },
  {
   "cell_type": "code",
   "execution_count": null,
   "id": "bd167f73",
   "metadata": {},
   "outputs": [],
   "source": [
    "ver_num.group(1)"
   ]
  },
  {
   "cell_type": "code",
   "execution_count": null,
   "id": "d0989405",
   "metadata": {},
   "outputs": [],
   "source": [
    "get_resolution(nonsample)"
   ]
  },
  {
   "cell_type": "code",
   "execution_count": null,
   "id": "2c604c6c",
   "metadata": {},
   "outputs": [],
   "source": [
    " "
   ]
  },
  {
   "cell_type": "code",
   "execution_count": null,
   "id": "3ff8c8d7",
   "metadata": {},
   "outputs": [],
   "source": [
    "#Get pupil size data type (area or diameter)\n",
    "pupil_config = [line for i,line in enumerate(nonsample) if nonsample == \"PUPIL\"]\n",
    "if len(pupil_config) > 0:\n",
    "    pad = pupil_config[-1].split()[1]\n",
    "\n",
    "# Find the samples and events config lines in the non-sample input, get data types\n",
    "events_config = [line for i,line in enumerate(nonsample) if firstcol[i] == \"EVENTS\"]\n",
    "samples_config = [line for i,line in enumerate(nonsample) if firstcol[i]== \"SAMPLES\"]\n",
    "config = events_config + samples_config[-1:]\n",
    "# Find the samples and events config lines in the non-sample input, get data types\n",
    "events_config = [line for i,line in enumerate(nonsample) if firstcol[i] == \"EVENTS\"]\n",
    "samples_config = [line for i,line in enumerate(nonsample) if firstcol[i] == \"SAMPLES\"]\n",
    "if len(events_config) > 0:\n",
    "    ed = events_config[-1].split()[1]\n",
    "if len(samples_config) > 0:\n",
    "    sd= samples_config[-1].split()[1]"
   ]
  },
  {
   "cell_type": "code",
   "execution_count": null,
   "id": "60c28c7e",
   "metadata": {},
   "outputs": [],
   "source": [
    "pupil_config = [line for i,line in enumerate(nonsample) if firstcol[i] == \"PUPIL\"]"
   ]
  },
  {
   "cell_type": "code",
   "execution_count": null,
   "id": "05872a10",
   "metadata": {},
   "outputs": [],
   "source": [
    "info=get_info(nonsample,firstcol)"
   ]
  },
  {
   "cell_type": "code",
   "execution_count": null,
   "id": "c9d50aec",
   "metadata": {},
   "outputs": [],
   "source": [
    "info"
   ]
  },
  {
   "cell_type": "code",
   "execution_count": null,
   "id": "da11ae3d",
   "metadata": {},
   "outputs": [],
   "source": [
    "starts = [i for i,x in enumerate(inp_first) if x == \"START\"]\n",
    "# Do some extra processing/sanitizing if there's HTARG info in the file\n",
    "if info['htarg']:\n",
    "    inp, info = handle_htarg(inp, info, is_raw)\n",
    "\n",
    "# Find blocks and mark lines between block ENDs and next block STARTs\n",
    "dividers = starts + [len(inp)]\n",
    "block = np.cumsum([x == \"START\" for x in inp_first])\n",
    "block = block.astype(float)\n",
    "\n",
    "for i in range(1, len(dividers)):\n",
    "    start = dividers[i-1]\n",
    "    end = dividers[i]\n",
    "    endline = [j for j, x in enumerate(inp_first[start:end]) if x == \"END\"]\n",
    "    if endline and endline[-1] < end-start:\n",
    "         block[endline[0]+start:end] += 0.5\n",
    "block[:dividers[0]+1] += 0.5"
   ]
  },
  {
   "cell_type": "code",
   "execution_count": null,
   "id": "113369cc",
   "metadata": {},
   "outputs": [],
   "source": [
    "import pandas as pd\n",
    "import numpy as np\n",
    "import re\n",
    "import warnings\n",
    "import io\n",
    "\n",
    "def process_raw(raw, blocks, info):\n",
    "    if len(raw) == 0:\n",
    "        # If no sample data in file, create empty raw DataFrame w/ all applicable columns\n",
    "        raw = [\"\", \"\"]\n",
    "        blocks = pd.Series([], dtype=int)\n",
    "        colnames = get_raw_header(info)\n",
    "        coltypes = get_coltypes(colnames, float_time=False)\n",
    "    else:\n",
    "        # Determine if timestamps stored as floats (edf2asc option -ftime, useful for 2000 Hz)\n",
    "        float_time = is_float(re.split(r'\\s+', raw[0])[0])\n",
    "        # Generate column names and types based in info in header\n",
    "        colnames = get_raw_header(info)\n",
    "        coltypes = get_coltypes(colnames, float_time)\n",
    "        # Discard any rows with too many or too few columns (usually rows where eye is missing)\n",
    "        row_length = [len(re.split(r'\\t', r)) for r in raw]\n",
    "        med_length = np.median(row_length)\n",
    "        raw = [r for r, l in zip(raw, row_length) if l == med_length]\n",
    "        blocks = blocks[row_length == med_length]\n",
    "        # Verify that generated columns match up with actual maximum row length\n",
    "        length_diff = med_length - len(colnames)\n",
    "        if length_diff > 0:\n",
    "            warnings.warn(\"Unknown columns in raw data. Assuming first one is time, please check the others\")\n",
    "            colnames = [\"time\"] + [f\"X{i+1}\" for i in range(med_length-1)]\n",
    "            coltypes = \"i\" + \"?\"*(med_length-1)\n",
    "    # Process raw sample data using pandas\n",
    "    if len(raw) == 1:\n",
    "        raw.append(\"\")\n",
    "   \n",
    "    raw_df = pd.read_csv(io.StringIO(\"\".join(raw)), sep='\\t', header=None, names=colnames, na_values=np.nan, low_memory=False)\n",
    "\n",
    "    if info[\"tracking\"] and not info[\"cr\"]:\n",
    "        raw_df = raw_df.drop(columns=[\"cr.info\"]) # Drop CR column when not actually used\n",
    "    # Append block numbers to beginning of DataFrame\n",
    "    raw_df.insert(0, \"block\", blocks)\n",
    "    # Replace missing pupil data (zeros) with NaNs\n",
    "    if \"X1\" not in raw_df.columns:\n",
    "        if info[\"mono\"]:\n",
    "            raw_df.loc[raw_df[\"ps\"] == 0, \"ps\"] = np.nan\n",
    "        else:\n",
    "            raw_df.loc[raw_df[\"psl\"] == 0, \"psl\"] = np.nan\n",
    "            raw_df.loc[raw_df[\"psr\"] == 0, \"psr\"] = np.nan\n",
    "    return raw_df\n"
   ]
  },
  {
   "cell_type": "code",
   "execution_count": null,
   "id": "5ea0265d",
   "metadata": {},
   "outputs": [],
   "source": [
    "def get_raw_header(info):\n",
    "    eyev = [\"xp\", \"yp\", \"ps\"]\n",
    "    \n",
    "    if not info[\"mono\"]:\n",
    "        eyev = [f\"{e}{s}\" for s in [\"l\", \"r\"] for e in eyev]\n",
    "    \n",
    "    if info[\"velocity\"]:\n",
    "        if info[\"mono\"]:\n",
    "            eyev += [\"xv\", \"yv\"]\n",
    "        else:\n",
    "            eyev += [f\"{e}{s}\" for s in [\"vl\", \"vr\"] for e in [\"x\", \"y\"]]\n",
    "    \n",
    "    if info[\"resolution\"]:\n",
    "        eyev += [\"xr\", \"yr\"]\n",
    "    \n",
    "    if info[\"input\"]:\n",
    "        eyev += [\"input\"]\n",
    "    \n",
    "    if info[\"buttons\"]:\n",
    "        eyev += [\"buttons\"]\n",
    "    \n",
    "    if info[\"tracking\"]:\n",
    "        eyev += [\"cr.info\"]\n",
    "    \n",
    "    if info[\"htarg\"]:\n",
    "        eyev += [\"tx\", \"ty\", \"td\", \"remote.info\"]\n",
    "    \n",
    "    return [\"time\"] + eyev\n",
    "\n",
    "    \n",
    "\n",
    "def get_event_header(info, xy_cols):\n",
    "    base = [\"eye\", \"stime\", \"etime\", \"dur\"]\n",
    "    \n",
    "    if info[\"event.dtype\"] == \"HREF\":\n",
    "        xy_cols = [f\"href.{xy}\" for xy in xy_cols] + xy_cols\n",
    "        \n",
    "    if info[\"resolution\"]:\n",
    "        xy_cols += [\"xr\", \"yr\"]\n",
    "        \n",
    "    return base + xy_cols\n",
    "    \n",
    "\n",
    "def get_sacc_header(info):\n",
    "    return get_event_header(info, [\"sxp\", \"syp\", \"exp\", \"eyp\", \"ampl\", \"pv\"])\n",
    "    \n",
    "\n",
    "def get_fix_header(info):\n",
    "    return get_event_header(info, [\"axp\", \"ayp\", \"aps\"])\n",
    "    \n",
    "    \n",
    "def is_float(string):\n",
    "    return bool(re.search(\"\\\\.\", string))\n",
    "\n",
    "\n",
    "def get_coltypes(colnames, float_time=True):\n",
    "    chr_cols=[\"type\", \"eye\", \"cr.info\", \"remote.info\"]\n",
    "    int_cols=[\"button\", \"state\", \"value\"]\n",
    "    time_cols=[\"time\", \"stime\", \"etime\", \"dur\"]\n",
    "    if not float_time:\n",
    "        int_cols += time_cols\n",
    "    \n",
    "    coltypes = ['str' if col in chr_cols else 'int64' if col in int_cols else 'float64' for col in colnames]\n",
    "    \n",
    "    return coltypes\n",
    "\n"
   ]
  },
  {
   "cell_type": "code",
   "execution_count": null,
   "id": "38b9353a",
   "metadata": {},
   "outputs": [],
   "source": [
    "raw,blocks=[line for line, raw in zip(inp, is_raw) if raw],block[is_raw]"
   ]
  },
  {
   "cell_type": "code",
   "execution_count": null,
   "id": "64b49b9a",
   "metadata": {},
   "outputs": [],
   "source": [
    "blocks"
   ]
  },
  {
   "cell_type": "code",
   "execution_count": null,
   "id": "b09751be",
   "metadata": {
    "scrolled": false
   },
   "outputs": [],
   "source": [
    "process_raw(raw,blocks,info)"
   ]
  },
  {
   "cell_type": "code",
   "execution_count": null,
   "id": "3f32296e",
   "metadata": {},
   "outputs": [],
   "source": [
    "get_raw_header(info)"
   ]
  },
  {
   "cell_type": "code",
   "execution_count": null,
   "id": "f1cc1d12",
   "metadata": {},
   "outputs": [],
   "source": [
    "colnames = get_raw_header(info)\n",
    "coltypes = get_coltypes(colnames, float_time=False)\n",
    "coltypes"
   ]
  },
  {
   "cell_type": "code",
   "execution_count": null,
   "id": "02839fc2",
   "metadata": {},
   "outputs": [],
   "source": [
    "colnames"
   ]
  },
  {
   "cell_type": "code",
   "execution_count": null,
   "id": "be1f87f2",
   "metadata": {},
   "outputs": [],
   "source": [
    "#pd.read_csv(raw,usecols=colnames,)"
   ]
  },
  {
   "cell_type": "code",
   "execution_count": null,
   "id": "8f62eeb4",
   "metadata": {},
   "outputs": [],
   "source": [
    "#pd.DataFrame(raw,columns=colnames,dtype=F)"
   ]
  },
  {
   "cell_type": "code",
   "execution_count": null,
   "id": "4ba6cb41",
   "metadata": {},
   "outputs": [],
   "source": [
    "raw_df = pd.read_csv(io.StringIO(\"\".join(raw)), sep='\\t', header=None, names=colnames, na_values=\".\", low_memory=False)\n"
   ]
  },
  {
   "cell_type": "code",
   "execution_count": null,
   "id": "d3a2b17b",
   "metadata": {},
   "outputs": [],
   "source": [
    "is_sacc = np.array(inp_first) == \"ESACC\""
   ]
  },
  {
   "cell_type": "code",
   "execution_count": null,
   "id": "3e5722ef",
   "metadata": {},
   "outputs": [],
   "source": [
    "process_saccades(np.array(inp)[is_sacc], np.array(block)[is_sacc], info)"
   ]
  },
  {
   "cell_type": "code",
   "execution_count": null,
   "id": "ac23c3cd",
   "metadata": {
    "scrolled": true
   },
   "outputs": [],
   "source": [
    "get_sacc_header(info)"
   ]
  },
  {
   "cell_type": "code",
   "execution_count": null,
   "id": "50c6f2c4",
   "metadata": {},
   "outputs": [],
   "source": [
    "sacc_df = process_events(np.array(inp)[is_sacc], np.array(block)[is_sacc], get_sacc_header(info))"
   ]
  },
  {
   "cell_type": "code",
   "execution_count": null,
   "id": "7d118bc4",
   "metadata": {},
   "outputs": [],
   "source": [
    "sacc_df"
   ]
  },
  {
   "cell_type": "code",
   "execution_count": null,
   "id": "1e8ddbe2",
   "metadata": {},
   "outputs": [],
   "source": [
    "is_sacc"
   ]
  },
  {
   "cell_type": "code",
   "execution_count": null,
   "id": "f049f9e9",
   "metadata": {},
   "outputs": [],
   "source": [
    "is_sacc"
   ]
  },
  {
   "cell_type": "code",
   "execution_count": null,
   "id": "10b5dfe0",
   "metadata": {},
   "outputs": [],
   "source": []
  },
  {
   "cell_type": "code",
   "execution_count": null,
   "id": "922bb922",
   "metadata": {},
   "outputs": [],
   "source": []
  },
  {
   "cell_type": "code",
   "execution_count": null,
   "id": "e2aa113e",
   "metadata": {},
   "outputs": [],
   "source": []
  },
  {
   "cell_type": "code",
   "execution_count": null,
   "id": "b9eb942a",
   "metadata": {},
   "outputs": [],
   "source": []
  },
  {
   "cell_type": "code",
   "execution_count": null,
   "id": "d67481fe",
   "metadata": {},
   "outputs": [],
   "source": []
  },
  {
   "cell_type": "code",
   "execution_count": null,
   "id": "b47ff260",
   "metadata": {},
   "outputs": [],
   "source": []
  },
  {
   "cell_type": "code",
   "execution_count": null,
   "id": "4804a086",
   "metadata": {},
   "outputs": [],
   "source": []
  },
  {
   "cell_type": "code",
   "execution_count": null,
   "id": "639380f5",
   "metadata": {},
   "outputs": [],
   "source": []
  },
  {
   "cell_type": "code",
   "execution_count": null,
   "id": "940c4fd6",
   "metadata": {},
   "outputs": [],
   "source": []
  },
  {
   "cell_type": "code",
   "execution_count": null,
   "id": "7be829c6",
   "metadata": {},
   "outputs": [],
   "source": []
  },
  {
   "cell_type": "code",
   "execution_count": null,
   "id": "8406a6c3",
   "metadata": {},
   "outputs": [],
   "source": []
  },
  {
   "cell_type": "code",
   "execution_count": null,
   "id": "c6afb306",
   "metadata": {},
   "outputs": [],
   "source": []
  },
  {
   "cell_type": "code",
   "execution_count": null,
   "id": "98938d29",
   "metadata": {},
   "outputs": [],
   "source": []
  },
  {
   "cell_type": "code",
   "execution_count": null,
   "id": "5f6ffc5a",
   "metadata": {},
   "outputs": [],
   "source": []
  },
  {
   "cell_type": "code",
   "execution_count": null,
   "id": "94a19001",
   "metadata": {},
   "outputs": [],
   "source": []
  },
  {
   "cell_type": "code",
   "execution_count": null,
   "id": "b617e1d4",
   "metadata": {},
   "outputs": [],
   "source": []
  },
  {
   "cell_type": "code",
   "execution_count": null,
   "id": "b658e5bd",
   "metadata": {},
   "outputs": [],
   "source": []
  },
  {
   "cell_type": "code",
   "execution_count": null,
   "id": "7c2d4f98",
   "metadata": {},
   "outputs": [],
   "source": []
  },
  {
   "cell_type": "code",
   "execution_count": null,
   "id": "cbe01d3a",
   "metadata": {},
   "outputs": [],
   "source": []
  },
  {
   "cell_type": "code",
   "execution_count": null,
   "id": "5f8f7b57",
   "metadata": {},
   "outputs": [],
   "source": []
  },
  {
   "cell_type": "code",
   "execution_count": null,
   "id": "c50ff3af",
   "metadata": {},
   "outputs": [],
   "source": []
  },
  {
   "cell_type": "code",
   "execution_count": null,
   "id": "722a4523",
   "metadata": {},
   "outputs": [],
   "source": []
  },
  {
   "cell_type": "code",
   "execution_count": null,
   "id": "c8c4c35a",
   "metadata": {},
   "outputs": [],
   "source": []
  },
  {
   "cell_type": "code",
   "execution_count": null,
   "id": "a5b368cf",
   "metadata": {},
   "outputs": [],
   "source": []
  },
  {
   "cell_type": "code",
   "execution_count": null,
   "id": "c465f6fc",
   "metadata": {},
   "outputs": [],
   "source": []
  },
  {
   "cell_type": "code",
   "execution_count": null,
   "id": "4a601656",
   "metadata": {},
   "outputs": [],
   "source": []
  },
  {
   "cell_type": "code",
   "execution_count": null,
   "id": "3de15dae",
   "metadata": {},
   "outputs": [],
   "source": []
  },
  {
   "cell_type": "code",
   "execution_count": null,
   "id": "eb0cd4ba",
   "metadata": {},
   "outputs": [],
   "source": []
  },
  {
   "cell_type": "code",
   "execution_count": null,
   "id": "2f515b95",
   "metadata": {},
   "outputs": [],
   "source": []
  },
  {
   "cell_type": "code",
   "execution_count": null,
   "id": "6aaf1389",
   "metadata": {},
   "outputs": [],
   "source": []
  },
  {
   "cell_type": "code",
   "execution_count": null,
   "id": "159fdff5",
   "metadata": {},
   "outputs": [],
   "source": []
  },
  {
   "cell_type": "code",
   "execution_count": null,
   "id": "7f84277e",
   "metadata": {},
   "outputs": [],
   "source": []
  },
  {
   "cell_type": "code",
   "execution_count": null,
   "id": "b0d0a690",
   "metadata": {},
   "outputs": [],
   "source": []
  },
  {
   "cell_type": "code",
   "execution_count": null,
   "id": "7571ac5d",
   "metadata": {},
   "outputs": [],
   "source": []
  },
  {
   "cell_type": "code",
   "execution_count": null,
   "id": "cd086ebb",
   "metadata": {},
   "outputs": [],
   "source": []
  },
  {
   "cell_type": "code",
   "execution_count": null,
   "id": "ede2e943",
   "metadata": {},
   "outputs": [],
   "source": []
  },
  {
   "cell_type": "code",
   "execution_count": null,
   "id": "791fb70a",
   "metadata": {},
   "outputs": [],
   "source": []
  },
  {
   "cell_type": "code",
   "execution_count": null,
   "id": "29608c15",
   "metadata": {},
   "outputs": [],
   "source": []
  },
  {
   "cell_type": "code",
   "execution_count": null,
   "id": "ec5465af",
   "metadata": {},
   "outputs": [],
   "source": []
  },
  {
   "cell_type": "code",
   "execution_count": null,
   "id": "ab68fda8",
   "metadata": {},
   "outputs": [],
   "source": []
  },
  {
   "cell_type": "code",
   "execution_count": null,
   "id": "89f2a127",
   "metadata": {},
   "outputs": [],
   "source": []
  },
  {
   "cell_type": "code",
   "execution_count": null,
   "id": "14581b5c",
   "metadata": {},
   "outputs": [],
   "source": []
  },
  {
   "cell_type": "code",
   "execution_count": null,
   "id": "69fcb340",
   "metadata": {},
   "outputs": [],
   "source": []
  },
  {
   "cell_type": "code",
   "execution_count": null,
   "id": "1fc98111",
   "metadata": {},
   "outputs": [],
   "source": []
  },
  {
   "cell_type": "code",
   "execution_count": null,
   "id": "2c32363c",
   "metadata": {},
   "outputs": [],
   "source": []
  },
  {
   "cell_type": "code",
   "execution_count": null,
   "id": "06a6e3aa",
   "metadata": {},
   "outputs": [],
   "source": []
  },
  {
   "cell_type": "code",
   "execution_count": null,
   "id": "db44c326",
   "metadata": {},
   "outputs": [],
   "source": []
  },
  {
   "cell_type": "code",
   "execution_count": null,
   "id": "fcfc5970",
   "metadata": {},
   "outputs": [],
   "source": []
  },
  {
   "cell_type": "code",
   "execution_count": null,
   "id": "35d17d9b",
   "metadata": {},
   "outputs": [],
   "source": []
  },
  {
   "cell_type": "code",
   "execution_count": null,
   "id": "0bc5cd8d",
   "metadata": {},
   "outputs": [],
   "source": []
  },
  {
   "cell_type": "code",
   "execution_count": null,
   "id": "21092df6",
   "metadata": {},
   "outputs": [],
   "source": []
  },
  {
   "cell_type": "code",
   "execution_count": null,
   "id": "59268d9b",
   "metadata": {},
   "outputs": [],
   "source": []
  },
  {
   "cell_type": "code",
   "execution_count": null,
   "id": "263abd31",
   "metadata": {},
   "outputs": [],
   "source": []
  },
  {
   "cell_type": "code",
   "execution_count": null,
   "id": "43f1f4c3",
   "metadata": {},
   "outputs": [],
   "source": []
  },
  {
   "cell_type": "code",
   "execution_count": null,
   "id": "9d6a87e4",
   "metadata": {},
   "outputs": [],
   "source": []
  },
  {
   "cell_type": "code",
   "execution_count": null,
   "id": "2826c1a1",
   "metadata": {},
   "outputs": [],
   "source": []
  },
  {
   "cell_type": "code",
   "execution_count": null,
   "id": "21b36edc",
   "metadata": {},
   "outputs": [],
   "source": []
  },
  {
   "cell_type": "code",
   "execution_count": null,
   "id": "7799b7b5",
   "metadata": {},
   "outputs": [],
   "source": []
  }
 ],
 "metadata": {
  "kernelspec": {
   "display_name": "Python 3 (ipykernel)",
   "language": "python",
   "name": "python3"
  },
  "language_info": {
   "codemirror_mode": {
    "name": "ipython",
    "version": 3
   },
   "file_extension": ".py",
   "mimetype": "text/x-python",
   "name": "python",
   "nbconvert_exporter": "python",
   "pygments_lexer": "ipython3",
   "version": "3.9.13"
  }
 },
 "nbformat": 4,
 "nbformat_minor": 5
}
